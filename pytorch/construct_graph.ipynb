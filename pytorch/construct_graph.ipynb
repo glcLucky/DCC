{
 "cells": [
  {
   "cell_type": "code",
   "execution_count": 1,
   "metadata": {
    "ExecuteTime": {
     "end_time": "2020-08-18T08:27:45.557069Z",
     "start_time": "2020-08-18T08:27:45.550186Z"
    }
   },
   "outputs": [],
   "source": [
    "from config import cfg, get_data_dir, get_output_dir\n"
   ]
  },
  {
   "cell_type": "code",
   "execution_count": 2,
   "metadata": {
    "ExecuteTime": {
     "end_time": "2020-08-18T08:27:49.104983Z",
     "start_time": "2020-08-18T08:27:45.559772Z"
    }
   },
   "outputs": [
    {
     "name": "stderr",
     "output_type": "stream",
     "text": [
      "/Users/jasper/opt/miniconda3/envs/mmc/lib/python3.6/site-packages/sklearn/utils/deprecation.py:143: FutureWarning: The sklearn.datasets.samples_generator module is  deprecated in version 0.22 and will be removed in version 0.24. The corresponding classes / functions should instead be imported from sklearn.datasets. Anything that cannot be imported from sklearn.datasets is now part of the private API.\n",
      "  warnings.warn(message, FutureWarning)\n"
     ]
    }
   ],
   "source": [
    "from easydict import EasyDict as edict\n",
    "from edgeConstruction import compressed_data\n",
    "import matplotlib.pyplot as plt\n",
    "import data_params as dp\n",
    "import make_data\n",
    "import pretraining\n",
    "import extract_feature\n",
    "import copyGraph\n",
    "import DCC"
   ]
  },
  {
   "cell_type": "code",
   "execution_count": 3,
   "metadata": {
    "ExecuteTime": {
     "end_time": "2020-08-18T08:27:49.110063Z",
     "start_time": "2020-08-18T08:27:49.107094Z"
    }
   },
   "outputs": [],
   "source": [
    "import os\n",
    "import numpy as np\n",
    "import scipy.io as sio"
   ]
  },
  {
   "cell_type": "code",
   "execution_count": 21,
   "metadata": {
    "ExecuteTime": {
     "end_time": "2020-08-18T09:36:15.022462Z",
     "start_time": "2020-08-18T09:36:15.018300Z"
    }
   },
   "outputs": [],
   "source": [
    "from custom_data import DCCPT_data\n",
    "import data_params as dp"
   ]
  },
  {
   "cell_type": "markdown",
   "metadata": {},
   "source": [
    "# load data & make graph"
   ]
  },
  {
   "cell_type": "markdown",
   "metadata": {},
   "source": [
    "## remove labels if necessary"
   ]
  },
  {
   "cell_type": "code",
   "execution_count": 48,
   "metadata": {
    "ExecuteTime": {
     "end_time": "2020-08-19T03:11:53.665495Z",
     "start_time": "2020-08-19T03:11:53.662775Z"
    }
   },
   "outputs": [],
   "source": [
    "datadir = get_data_dir(\"cmnist\")\n",
    "outputdir = get_output_dir(\"cmnist\")"
   ]
  },
  {
   "cell_type": "code",
   "execution_count": 56,
   "metadata": {
    "ExecuteTime": {
     "end_time": "2020-08-19T03:14:12.639707Z",
     "start_time": "2020-08-19T03:14:12.507759Z"
    }
   },
   "outputs": [],
   "source": [
    "traindata = sio.loadmat(os.path.join(datadir, \"traindata.mat\"))\n",
    "\n",
    "testdata = sio.loadmat(os.path.join(datadir, \"testdata.mat\"))"
   ]
  },
  {
   "cell_type": "code",
   "execution_count": 51,
   "metadata": {
    "ExecuteTime": {
     "end_time": "2020-08-19T03:12:00.992158Z",
     "start_time": "2020-08-19T03:12:00.989310Z"
    }
   },
   "outputs": [],
   "source": [
    "# traindata['X'] = traindata['X'].reshape((-1, 1, 28, 28))"
   ]
  },
  {
   "cell_type": "code",
   "execution_count": 57,
   "metadata": {
    "ExecuteTime": {
     "end_time": "2020-08-19T03:14:17.362701Z",
     "start_time": "2020-08-19T03:14:17.357597Z"
    }
   },
   "outputs": [
    {
     "data": {
      "text/plain": [
       "(60000, 1, 28, 28)"
      ]
     },
     "execution_count": 57,
     "metadata": {},
     "output_type": "execute_result"
    }
   ],
   "source": [
    "traindata['X'].shape"
   ]
  },
  {
   "cell_type": "code",
   "execution_count": 53,
   "metadata": {
    "ExecuteTime": {
     "end_time": "2020-08-19T03:12:07.261515Z",
     "start_time": "2020-08-19T03:12:07.258927Z"
    }
   },
   "outputs": [],
   "source": [
    "# testdata['X'] = testdata['X'].reshape((-1, 1, 28, 28))"
   ]
  },
  {
   "cell_type": "code",
   "execution_count": 58,
   "metadata": {
    "ExecuteTime": {
     "end_time": "2020-08-19T03:14:20.557446Z",
     "start_time": "2020-08-19T03:14:20.554344Z"
    }
   },
   "outputs": [
    {
     "data": {
      "text/plain": [
       "(10000, 1, 28, 28)"
      ]
     },
     "execution_count": 58,
     "metadata": {},
     "output_type": "execute_result"
    }
   ],
   "source": [
    "testdata['X'].shape"
   ]
  },
  {
   "cell_type": "code",
   "execution_count": 55,
   "metadata": {
    "ExecuteTime": {
     "end_time": "2020-08-19T03:14:10.268065Z",
     "start_time": "2020-08-19T03:14:09.627593Z"
    }
   },
   "outputs": [],
   "source": [
    "# sio.savemat(os.path.join(datadir, \"traindata.mat\"), traindata)\n",
    "# sio.savemat(os.path.join(datadir, \"testdata.mat\"), testdata)"
   ]
  },
  {
   "cell_type": "code",
   "execution_count": 68,
   "metadata": {
    "ExecuteTime": {
     "end_time": "2020-08-19T03:26:55.126580Z",
     "start_time": "2020-08-19T03:26:54.898480Z"
    }
   },
   "outputs": [],
   "source": [
    "mnist_data = np.vstack([traindata['X'], testdata['X']])"
   ]
  },
  {
   "cell_type": "code",
   "execution_count": 69,
   "metadata": {
    "ExecuteTime": {
     "end_time": "2020-08-19T03:26:55.767478Z",
     "start_time": "2020-08-19T03:26:55.763423Z"
    }
   },
   "outputs": [
    {
     "data": {
      "text/plain": [
       "(70000, 1, 28, 28)"
      ]
     },
     "execution_count": 69,
     "metadata": {},
     "output_type": "execute_result"
    }
   ],
   "source": [
    "mnist_data.shape"
   ]
  },
  {
   "cell_type": "code",
   "execution_count": 74,
   "metadata": {
    "ExecuteTime": {
     "end_time": "2020-08-18T07:52:14.667618Z",
     "start_time": "2020-08-18T07:52:14.663714Z"
    }
   },
   "outputs": [
    {
     "data": {
      "text/plain": [
       "'/Users/jasper/dev/DCC/data/test'"
      ]
     },
     "execution_count": 74,
     "metadata": {},
     "output_type": "execute_result"
    }
   ],
   "source": [
    "datadir"
   ]
  },
  {
   "cell_type": "code",
   "execution_count": 75,
   "metadata": {
    "ExecuteTime": {
     "end_time": "2020-08-18T07:52:43.329913Z",
     "start_time": "2020-08-18T07:52:42.934967Z"
    }
   },
   "outputs": [],
   "source": [
    "sio.savemat(os.path.join(datadir, \"mnistdata.mat\"), {'X': mnist_data})"
   ]
  },
  {
   "cell_type": "markdown",
   "metadata": {},
   "source": [
    "## load data"
   ]
  },
  {
   "cell_type": "code",
   "execution_count": 79,
   "metadata": {
    "ExecuteTime": {
     "end_time": "2020-08-19T03:29:01.587801Z",
     "start_time": "2020-08-19T03:29:01.459663Z"
    }
   },
   "outputs": [],
   "source": [
    "pretrained_mat = sio.loadmat(os.path.join(datadir, \"pretrained.mat\"))"
   ]
  },
  {
   "cell_type": "code",
   "execution_count": 81,
   "metadata": {
    "ExecuteTime": {
     "end_time": "2020-08-19T03:29:15.670924Z",
     "start_time": "2020-08-19T03:29:15.664922Z"
    }
   },
   "outputs": [
    {
     "data": {
      "text/plain": [
       "(70000, 1, 28, 28)"
      ]
     },
     "execution_count": 81,
     "metadata": {},
     "output_type": "execute_result"
    }
   ],
   "source": [
    "pretrained_mat['X'].shape"
   ]
  },
  {
   "cell_type": "code",
   "execution_count": 74,
   "metadata": {
    "ExecuteTime": {
     "end_time": "2020-08-19T03:27:25.274579Z",
     "start_time": "2020-08-19T03:27:25.202415Z"
    }
   },
   "outputs": [],
   "source": [
    "# # make pretrained.mat of cmnist from mnist\n",
    "# pretrain_mnist = sio.loadmat(os.path.join(datadir, \"pretrained.mat\"))\n",
    "\n",
    "# pretrain_mnist['X'].shape\n",
    "\n",
    "# pretrain_mnist['X'] = mnist_data\n",
    "\n",
    "# pretrain_mnist['X'].shape\n",
    "\n",
    "# sio.savemat(os.path.join(datadir, \"pretrained.mat\"), pretrain_mnist)\n",
    "\n",
    "# cmnistdata = sio.loadmat(os.path.join(datadir, \"traindata.mat\"))"
   ]
  },
  {
   "cell_type": "code",
   "execution_count": 7,
   "metadata": {
    "ExecuteTime": {
     "end_time": "2020-08-18T08:28:06.530308Z",
     "start_time": "2020-08-18T08:28:06.521665Z"
    }
   },
   "outputs": [],
   "source": [
    "X = mnistdata['X']"
   ]
  },
  {
   "cell_type": "code",
   "execution_count": 82,
   "metadata": {
    "ExecuteTime": {
     "end_time": "2020-08-19T03:33:02.514893Z",
     "start_time": "2020-08-19T03:33:02.510070Z"
    }
   },
   "outputs": [
    {
     "data": {
      "text/plain": [
       "(70000, 784)"
      ]
     },
     "execution_count": 82,
     "metadata": {},
     "output_type": "execute_result"
    }
   ],
   "source": [
    "X.shape"
   ]
  },
  {
   "cell_type": "markdown",
   "metadata": {},
   "source": [
    "## make graph"
   ]
  },
  {
   "cell_type": "code",
   "execution_count": 9,
   "metadata": {
    "ExecuteTime": {
     "end_time": "2020-08-18T08:28:08.848937Z",
     "start_time": "2020-08-18T08:28:08.844814Z"
    }
   },
   "outputs": [],
   "source": [
    "from edgeConstruction import mkNN"
   ]
  },
  {
   "cell_type": "code",
   "execution_count": 11,
   "metadata": {
    "ExecuteTime": {
     "end_time": "2020-08-18T08:28:52.387976Z",
     "start_time": "2020-08-18T08:28:52.384637Z"
    }
   },
   "outputs": [],
   "source": [
    "dict_params_make_graph = {\n",
    "    'k': 50,\n",
    "    'preprocess': None,\n",
    "    'algo': 'mknn',\n",
    "    'measure': 'cosine',\n",
    "    'isPCA': None,\n",
    "}\n"
   ]
  },
  {
   "cell_type": "code",
   "execution_count": 14,
   "metadata": {
    "ExecuteTime": {
     "end_time": "2020-08-18T08:29:08.574185Z",
     "start_time": "2020-08-18T08:29:08.571601Z"
    }
   },
   "outputs": [],
   "source": [
    "n_samples = 10000"
   ]
  },
  {
   "cell_type": "code",
   "execution_count": 15,
   "metadata": {
    "ExecuteTime": {
     "end_time": "2020-08-18T08:30:47.593530Z",
     "start_time": "2020-08-18T08:29:09.120640Z"
    }
   },
   "outputs": [],
   "source": [
    "X_graph = mkNN(X[:n_samples], k=dict_params_make_graph['k'], measure=dict_params_make_graph['measure'])"
   ]
  },
  {
   "cell_type": "code",
   "execution_count": 17,
   "metadata": {
    "ExecuteTime": {
     "end_time": "2020-08-18T08:50:33.483433Z",
     "start_time": "2020-08-18T08:50:33.477711Z"
    }
   },
   "outputs": [
    {
     "data": {
      "text/plain": [
       "(133001, 3)"
      ]
     },
     "execution_count": 17,
     "metadata": {},
     "output_type": "execute_result"
    }
   ],
   "source": [
    "X_graph.shape"
   ]
  },
  {
   "cell_type": "code",
   "execution_count": 18,
   "metadata": {
    "ExecuteTime": {
     "end_time": "2020-08-18T08:50:40.693732Z",
     "start_time": "2020-08-18T08:50:40.688528Z"
    }
   },
   "outputs": [
    {
     "data": {
      "text/plain": [
       "array([[1.00000000e+00, 2.10000000e+01, 1.00000000e+00],\n",
       "       [3.00000000e+00, 2.30000000e+01, 1.02345058e+00],\n",
       "       [7.00000000e+00, 2.70000000e+01, 1.00000000e+00],\n",
       "       ...,\n",
       "       [9.22400000e+03, 9.99900000e+03, 1.00000000e+00],\n",
       "       [9.84300000e+03, 9.99900000e+03, 1.00000000e+00],\n",
       "       [9.96900000e+03, 9.99900000e+03, 1.00000000e+00]])"
      ]
     },
     "execution_count": 18,
     "metadata": {},
     "output_type": "execute_result"
    }
   ],
   "source": [
    "X_graph"
   ]
  },
  {
   "cell_type": "code",
   "execution_count": 20,
   "metadata": {
    "ExecuteTime": {
     "end_time": "2020-08-18T08:52:49.525760Z",
     "start_time": "2020-08-18T08:52:49.439939Z"
    }
   },
   "outputs": [],
   "source": [
    "sio.savemat(os.path.join(datadir, \"pretrained.mat\"), mdict={'X': X[:n_samples], 'w': X_graph[:, :2]})\n"
   ]
  },
  {
   "cell_type": "markdown",
   "metadata": {},
   "source": [
    "# pretraining SDAE"
   ]
  },
  {
   "cell_type": "code",
   "execution_count": 23,
   "metadata": {
    "ExecuteTime": {
     "end_time": "2020-08-18T09:39:13.342077Z",
     "start_time": "2020-08-18T09:39:13.335734Z"
    }
   },
   "outputs": [],
   "source": [
    "import torch\n",
    "import torch.nn as nn\n",
    "\n",
    "import torch.nn.functional as F\n",
    "import torch.nn.init as init\n"
   ]
  },
  {
   "cell_type": "code",
   "execution_count": 26,
   "metadata": {
    "ExecuteTime": {
     "end_time": "2020-08-18T09:42:31.490685Z",
     "start_time": "2020-08-18T09:42:31.308030Z"
    }
   },
   "outputs": [],
   "source": [
    "class SDAE(nn.Module):\n",
    "    def __init__(self, dim, dropout=0.2, slope=0.0):\n",
    "        super(SDAE, self).__init__()\n",
    "        self.in_dim = dim[0]\n",
    "        self.nlayers = len(dim)-1\n",
    "        self.reluslope = slope\n",
    "        self.enc, self.dec = [], []\n",
    "        for i in range(self.nlayers):\n",
    "            self.enc.append(nn.Linear(dim[i], dim[i+1]))\n",
    "            setattr(self, 'enc_{}'.format(i), self.enc[-1])\n",
    "            self.dec.append(nn.Linear(dim[i+1], dim[i]))\n",
    "            setattr(self, 'dec_{}'.format(i), self.dec[-1])\n",
    "        self.base = []\n",
    "        for i in range(self.nlayers):\n",
    "            self.base.append(nn.Sequential(*self.enc[:i]))\n",
    "        self.dropmodule1 = nn.Dropout(p=dropout)\n",
    "        self.dropmodule2 = nn.Dropout(p=dropout)\n",
    "        self.loss = nn.MSELoss(reduction='mean')\n",
    "\n",
    "        # initialization\n",
    "        for m in self.modules():\n",
    "            if isinstance(m, nn.Linear):\n",
    "                init.normal_(m.weight, std=1e-2)\n",
    "                if m.bias.data is not None:\n",
    "                    init.constant_(m.bias, 0)\n",
    "\n",
    "    def forward(self,x,index):\n",
    "        inp = x.view(-1, self.in_dim)\n",
    "        encoded = inp\n",
    "        for i, encoder in enumerate(self.enc):\n",
    "            if i < index:\n",
    "                encoded = encoder(encoded)\n",
    "                if i < self.nlayers-1:\n",
    "                    encoded = F.leaky_relu(encoded, negative_slope=self.reluslope)\n",
    "            if i == index:\n",
    "                inp = encoded\n",
    "                out = encoded\n",
    "                if index:\n",
    "                    out = self.dropmodule1(out)\n",
    "                out = encoder(out)\n",
    "        if index < self.nlayers-1:\n",
    "            out = F.leaky_relu(out, negative_slope=self.reluslope)\n",
    "            out = self.dropmodule2(out)\n",
    "        if index >= self.nlayers:\n",
    "            out = encoded\n",
    "        for i, decoder in reversed(list(enumerate(self.dec))):\n",
    "            if index >= self.nlayers:\n",
    "                out = decoder(out)\n",
    "                if i:\n",
    "                    out = F.leaky_relu(out, negative_slope=self.reluslope)\n",
    "            if i == index:\n",
    "                out = decoder(out)\n",
    "                if index:\n",
    "                    out = F.leaky_relu(out, negative_slope=self.reluslope)\n",
    "        out = self.loss(out, inp)\n",
    "        return out\n"
   ]
  },
  {
   "cell_type": "markdown",
   "metadata": {},
   "source": [
    "## data preparation"
   ]
  },
  {
   "cell_type": "code",
   "execution_count": null,
   "metadata": {},
   "outputs": [],
   "source": []
  },
  {
   "cell_type": "code",
   "execution_count": 27,
   "metadata": {
    "ExecuteTime": {
     "end_time": "2020-08-18T09:42:44.104341Z",
     "start_time": "2020-08-18T09:42:44.063766Z"
    }
   },
   "outputs": [],
   "source": [
    "net_sdae = SDAE(dim=[784, 500, 500, 2000, 10], dropout=0.2, slope=0)"
   ]
  },
  {
   "cell_type": "code",
   "execution_count": 28,
   "metadata": {
    "ExecuteTime": {
     "end_time": "2020-08-18T09:45:04.310110Z",
     "start_time": "2020-08-18T09:45:04.307344Z"
    }
   },
   "outputs": [],
   "source": [
    "from pretraining import train, test"
   ]
  },
  {
   "cell_type": "code",
   "execution_count": null,
   "metadata": {},
   "outputs": [],
   "source": []
  }
 ],
 "metadata": {
  "kernelspec": {
   "display_name": "mmc",
   "language": "python",
   "name": "mmc"
  },
  "language_info": {
   "codemirror_mode": {
    "name": "ipython",
    "version": 3
   },
   "file_extension": ".py",
   "mimetype": "text/x-python",
   "name": "python",
   "nbconvert_exporter": "python",
   "pygments_lexer": "ipython3",
   "version": "3.6.10"
  },
  "toc": {
   "base_numbering": 1,
   "nav_menu": {},
   "number_sections": true,
   "sideBar": true,
   "skip_h1_title": false,
   "title_cell": "Table of Contents",
   "title_sidebar": "Contents",
   "toc_cell": false,
   "toc_position": {
    "height": "calc(100% - 180px)",
    "left": "10px",
    "top": "150px",
    "width": "288px"
   },
   "toc_section_display": true,
   "toc_window_display": true
  }
 },
 "nbformat": 4,
 "nbformat_minor": 4
}
