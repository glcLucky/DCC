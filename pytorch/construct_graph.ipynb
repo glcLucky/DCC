{
 "cells": [
  {
   "cell_type": "code",
   "execution_count": 1,
   "metadata": {
    "ExecuteTime": {
     "end_time": "2020-08-18T08:27:45.557069Z",
     "start_time": "2020-08-18T08:27:45.550186Z"
    }
   },
   "outputs": [],
   "source": [
    "from config import cfg, get_data_dir, get_output_dir\n"
   ]
  },
  {
   "cell_type": "code",
   "execution_count": 2,
   "metadata": {
    "ExecuteTime": {
     "end_time": "2020-08-18T08:27:49.104983Z",
     "start_time": "2020-08-18T08:27:45.559772Z"
    }
   },
   "outputs": [
    {
     "name": "stderr",
     "output_type": "stream",
     "text": [
      "/Users/jasper/opt/miniconda3/envs/mmc/lib/python3.6/site-packages/sklearn/utils/deprecation.py:143: FutureWarning: The sklearn.datasets.samples_generator module is  deprecated in version 0.22 and will be removed in version 0.24. The corresponding classes / functions should instead be imported from sklearn.datasets. Anything that cannot be imported from sklearn.datasets is now part of the private API.\n",
      "  warnings.warn(message, FutureWarning)\n"
     ]
    }
   ],
   "source": [
    "from easydict import EasyDict as edict\n",
    "from edgeConstruction import compressed_data\n",
    "import matplotlib.pyplot as plt\n",
    "import data_params as dp\n",
    "import make_data\n",
    "import pretraining\n",
    "import extract_feature\n",
    "import copyGraph\n",
    "import DCC"
   ]
  },
  {
   "cell_type": "code",
   "execution_count": 3,
   "metadata": {
    "ExecuteTime": {
     "end_time": "2020-08-18T08:27:49.110063Z",
     "start_time": "2020-08-18T08:27:49.107094Z"
    }
   },
   "outputs": [],
   "source": [
    "import os\n",
    "import numpy as np\n",
    "import scipy.io as sio"
   ]
  },
  {
   "cell_type": "code",
   "execution_count": 4,
   "metadata": {
    "ExecuteTime": {
     "end_time": "2020-08-18T08:27:49.114961Z",
     "start_time": "2020-08-18T08:27:49.112059Z"
    }
   },
   "outputs": [],
   "source": [
    "from custom_data import DCCPT_data"
   ]
  },
  {
   "cell_type": "markdown",
   "metadata": {},
   "source": [
    "# load data & make graph"
   ]
  },
  {
   "cell_type": "markdown",
   "metadata": {},
   "source": [
    "## remove labels if necessary"
   ]
  },
  {
   "cell_type": "code",
   "execution_count": 5,
   "metadata": {
    "ExecuteTime": {
     "end_time": "2020-08-18T08:28:01.967664Z",
     "start_time": "2020-08-18T08:28:01.965114Z"
    }
   },
   "outputs": [],
   "source": [
    "datadir = get_data_dir(\"test\")\n",
    "outputdir = get_output_dir(\"test\")"
   ]
  },
  {
   "cell_type": "code",
   "execution_count": 65,
   "metadata": {
    "ExecuteTime": {
     "end_time": "2020-08-18T07:46:11.779473Z",
     "start_time": "2020-08-18T07:46:11.664733Z"
    }
   },
   "outputs": [],
   "source": [
    "traindata = sio.loadmat(os.path.join(datadir, \"traindata.mat\"))"
   ]
  },
  {
   "cell_type": "code",
   "execution_count": 68,
   "metadata": {
    "ExecuteTime": {
     "end_time": "2020-08-18T07:47:47.534797Z",
     "start_time": "2020-08-18T07:47:47.498191Z"
    }
   },
   "outputs": [],
   "source": [
    "testdata = sio.loadmat(os.path.join(datadir, \"testdata.mat\"))"
   ]
  },
  {
   "cell_type": "code",
   "execution_count": 67,
   "metadata": {
    "ExecuteTime": {
     "end_time": "2020-08-18T07:47:00.184952Z",
     "start_time": "2020-08-18T07:47:00.181106Z"
    }
   },
   "outputs": [
    {
     "data": {
      "text/plain": [
       "(60000, 784)"
      ]
     },
     "execution_count": 67,
     "metadata": {},
     "output_type": "execute_result"
    }
   ],
   "source": [
    "traindata['X'].shape"
   ]
  },
  {
   "cell_type": "code",
   "execution_count": 69,
   "metadata": {
    "ExecuteTime": {
     "end_time": "2020-08-18T07:47:57.013447Z",
     "start_time": "2020-08-18T07:47:57.009581Z"
    }
   },
   "outputs": [
    {
     "data": {
      "text/plain": [
       "(10000, 784)"
      ]
     },
     "execution_count": 69,
     "metadata": {},
     "output_type": "execute_result"
    }
   ],
   "source": [
    "testdata['X'].shape"
   ]
  },
  {
   "cell_type": "code",
   "execution_count": 72,
   "metadata": {
    "ExecuteTime": {
     "end_time": "2020-08-18T07:49:01.046124Z",
     "start_time": "2020-08-18T07:49:00.821911Z"
    }
   },
   "outputs": [],
   "source": [
    "mnist_data = np.vstack([traindata['X'], testdata['X']])"
   ]
  },
  {
   "cell_type": "code",
   "execution_count": 73,
   "metadata": {
    "ExecuteTime": {
     "end_time": "2020-08-18T07:49:09.251310Z",
     "start_time": "2020-08-18T07:49:09.247602Z"
    }
   },
   "outputs": [
    {
     "data": {
      "text/plain": [
       "(70000, 784)"
      ]
     },
     "execution_count": 73,
     "metadata": {},
     "output_type": "execute_result"
    }
   ],
   "source": [
    "mnist_data.shape"
   ]
  },
  {
   "cell_type": "code",
   "execution_count": 74,
   "metadata": {
    "ExecuteTime": {
     "end_time": "2020-08-18T07:52:14.667618Z",
     "start_time": "2020-08-18T07:52:14.663714Z"
    }
   },
   "outputs": [
    {
     "data": {
      "text/plain": [
       "'/Users/jasper/dev/DCC/data/test'"
      ]
     },
     "execution_count": 74,
     "metadata": {},
     "output_type": "execute_result"
    }
   ],
   "source": [
    "datadir"
   ]
  },
  {
   "cell_type": "code",
   "execution_count": 75,
   "metadata": {
    "ExecuteTime": {
     "end_time": "2020-08-18T07:52:43.329913Z",
     "start_time": "2020-08-18T07:52:42.934967Z"
    }
   },
   "outputs": [],
   "source": [
    "sio.savemat(os.path.join(datadir, \"mnistdata.mat\"), {'X': mnist_data})"
   ]
  },
  {
   "cell_type": "markdown",
   "metadata": {},
   "source": [
    "## load data"
   ]
  },
  {
   "cell_type": "code",
   "execution_count": 6,
   "metadata": {
    "ExecuteTime": {
     "end_time": "2020-08-18T08:28:05.648045Z",
     "start_time": "2020-08-18T08:28:05.206261Z"
    }
   },
   "outputs": [],
   "source": [
    "mnistdata = sio.loadmat(os.path.join(datadir, \"mnistdata.mat\"))"
   ]
  },
  {
   "cell_type": "code",
   "execution_count": 7,
   "metadata": {
    "ExecuteTime": {
     "end_time": "2020-08-18T08:28:06.530308Z",
     "start_time": "2020-08-18T08:28:06.521665Z"
    }
   },
   "outputs": [],
   "source": [
    "X = mnistdata['X']"
   ]
  },
  {
   "cell_type": "code",
   "execution_count": 8,
   "metadata": {
    "ExecuteTime": {
     "end_time": "2020-08-18T08:28:06.743547Z",
     "start_time": "2020-08-18T08:28:06.736349Z"
    }
   },
   "outputs": [
    {
     "data": {
      "text/plain": [
       "(70000, 784)"
      ]
     },
     "execution_count": 8,
     "metadata": {},
     "output_type": "execute_result"
    }
   ],
   "source": [
    "X.shape"
   ]
  },
  {
   "cell_type": "markdown",
   "metadata": {},
   "source": [
    "## make graph"
   ]
  },
  {
   "cell_type": "code",
   "execution_count": 9,
   "metadata": {
    "ExecuteTime": {
     "end_time": "2020-08-18T08:28:08.848937Z",
     "start_time": "2020-08-18T08:28:08.844814Z"
    }
   },
   "outputs": [],
   "source": [
    "from edgeConstruction import mkNN"
   ]
  },
  {
   "cell_type": "code",
   "execution_count": 11,
   "metadata": {
    "ExecuteTime": {
     "end_time": "2020-08-18T08:28:52.387976Z",
     "start_time": "2020-08-18T08:28:52.384637Z"
    }
   },
   "outputs": [],
   "source": [
    "dict_params_make_graph = {\n",
    "    'k': 50,\n",
    "    'preprocess': None,\n",
    "    'algo': 'mknn',\n",
    "    'measure': 'cosine',\n",
    "    'isPCA': None,\n",
    "}\n"
   ]
  },
  {
   "cell_type": "code",
   "execution_count": 14,
   "metadata": {
    "ExecuteTime": {
     "end_time": "2020-08-18T08:29:08.574185Z",
     "start_time": "2020-08-18T08:29:08.571601Z"
    }
   },
   "outputs": [],
   "source": [
    "n_samples = 10000"
   ]
  },
  {
   "cell_type": "code",
   "execution_count": 15,
   "metadata": {
    "ExecuteTime": {
     "end_time": "2020-08-18T08:30:47.593530Z",
     "start_time": "2020-08-18T08:29:09.120640Z"
    }
   },
   "outputs": [],
   "source": [
    "X_graph = mkNN(X[:n_samples], k=dict_params_make_graph['k'], measure=dict_params_make_graph['measure'])"
   ]
  },
  {
   "cell_type": "code",
   "execution_count": 17,
   "metadata": {
    "ExecuteTime": {
     "end_time": "2020-08-18T08:50:33.483433Z",
     "start_time": "2020-08-18T08:50:33.477711Z"
    }
   },
   "outputs": [
    {
     "data": {
      "text/plain": [
       "(133001, 3)"
      ]
     },
     "execution_count": 17,
     "metadata": {},
     "output_type": "execute_result"
    }
   ],
   "source": [
    "X_graph.shape"
   ]
  },
  {
   "cell_type": "code",
   "execution_count": 18,
   "metadata": {
    "ExecuteTime": {
     "end_time": "2020-08-18T08:50:40.693732Z",
     "start_time": "2020-08-18T08:50:40.688528Z"
    }
   },
   "outputs": [
    {
     "data": {
      "text/plain": [
       "array([[1.00000000e+00, 2.10000000e+01, 1.00000000e+00],\n",
       "       [3.00000000e+00, 2.30000000e+01, 1.02345058e+00],\n",
       "       [7.00000000e+00, 2.70000000e+01, 1.00000000e+00],\n",
       "       ...,\n",
       "       [9.22400000e+03, 9.99900000e+03, 1.00000000e+00],\n",
       "       [9.84300000e+03, 9.99900000e+03, 1.00000000e+00],\n",
       "       [9.96900000e+03, 9.99900000e+03, 1.00000000e+00]])"
      ]
     },
     "execution_count": 18,
     "metadata": {},
     "output_type": "execute_result"
    }
   ],
   "source": [
    "X_graph"
   ]
  },
  {
   "cell_type": "code",
   "execution_count": 20,
   "metadata": {
    "ExecuteTime": {
     "end_time": "2020-08-18T08:52:49.525760Z",
     "start_time": "2020-08-18T08:52:49.439939Z"
    }
   },
   "outputs": [],
   "source": [
    "sio.savemat(os.path.join(datadir, \"pretrained.mat\"), mdict={'X': X[:n_samples], 'w': X_graph[:, :2]})\n"
   ]
  },
  {
   "cell_type": "markdown",
   "metadata": {},
   "source": [
    "# pretraining SDAE"
   ]
  },
  {
   "cell_type": "code",
   "execution_count": null,
   "metadata": {},
   "outputs": [],
   "source": []
  }
 ],
 "metadata": {
  "kernelspec": {
   "display_name": "mmc",
   "language": "python",
   "name": "mmc"
  },
  "language_info": {
   "codemirror_mode": {
    "name": "ipython",
    "version": 3
   },
   "file_extension": ".py",
   "mimetype": "text/x-python",
   "name": "python",
   "nbconvert_exporter": "python",
   "pygments_lexer": "ipython3",
   "version": "3.6.10"
  },
  "toc": {
   "base_numbering": 1,
   "nav_menu": {},
   "number_sections": true,
   "sideBar": true,
   "skip_h1_title": false,
   "title_cell": "Table of Contents",
   "title_sidebar": "Contents",
   "toc_cell": false,
   "toc_position": {},
   "toc_section_display": true,
   "toc_window_display": false
  }
 },
 "nbformat": 4,
 "nbformat_minor": 4
}
