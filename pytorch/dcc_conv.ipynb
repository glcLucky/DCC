{
 "cells": [
  {
   "cell_type": "code",
   "execution_count": 1,
   "metadata": {
    "ExecuteTime": {
     "end_time": "2020-08-20T04:01:15.875542Z",
     "start_time": "2020-08-20T04:01:15.263259Z"
    }
   },
   "outputs": [
    {
     "data": {
      "text/html": [
       "<style>.container { width:80% !important; }</style>"
      ],
      "text/plain": [
       "<IPython.core.display.HTML object>"
      ]
     },
     "metadata": {},
     "output_type": "display_data"
    }
   ],
   "source": [
    "# hide pakcage non critical warnings\n",
    "\n",
    "import warnings\n",
    "\n",
    "warnings.filterwarnings('ignore')\n",
    "\n",
    "from IPython.core.display import display, HTML\n",
    "display(HTML(\"<style>.container { width:80% !important; }</style>\"))\n",
    "\n",
    "\n",
    "%load_ext autoreload\n",
    "%autoreload 2\n",
    "\n",
    "%matplotlib inline"
   ]
  },
  {
   "cell_type": "code",
   "execution_count": 2,
   "metadata": {
    "ExecuteTime": {
     "end_time": "2020-08-20T04:01:19.477716Z",
     "start_time": "2020-08-20T04:01:15.877890Z"
    }
   },
   "outputs": [],
   "source": [
    "import matplotlib.pyplot as plt\n",
    "\n",
    "import scipy.io as sio\n",
    "\n",
    "import torch\n",
    "import torch.nn as nn\n",
    "\n",
    "import torch.nn.functional as F\n",
    "import torch.nn.init as init\n",
    "\n",
    "from custom_data import DCCPT_data\n",
    "\n",
    "from config import cfg, get_data_dir, get_output_dir, AverageMeter, remove_files_in_dir\n",
    "from convSDAE import convSDAE\n",
    "from tensorboard_logger import Logger\n",
    "\n",
    "import os\n",
    "import random\n",
    "import numpy as np\n",
    "\n",
    "import data_params as dp"
   ]
  },
  {
   "cell_type": "code",
   "execution_count": 3,
   "metadata": {
    "ExecuteTime": {
     "end_time": "2020-08-20T04:01:19.824723Z",
     "start_time": "2020-08-20T04:01:19.480229Z"
    }
   },
   "outputs": [],
   "source": [
    "import devkit.api as dk"
   ]
  },
  {
   "cell_type": "code",
   "execution_count": 4,
   "metadata": {
    "ExecuteTime": {
     "end_time": "2020-08-20T04:01:20.017311Z",
     "start_time": "2020-08-20T04:01:19.830909Z"
    }
   },
   "outputs": [],
   "source": [
    "net = convSDAE(dim=[1, 50, 50, 50, 10], output_padding=[0, 1, 0], numpen=4, dropout=0.2, slope=0)"
   ]
  },
  {
   "cell_type": "code",
   "execution_count": 5,
   "metadata": {
    "ExecuteTime": {
     "end_time": "2020-08-20T04:01:20.085386Z",
     "start_time": "2020-08-20T04:01:20.020268Z"
    }
   },
   "outputs": [
    {
     "data": {
      "text/plain": [
       "convSDAE(\n",
       "  (enc_0): Conv2d(1, 50, kernel_size=(4, 4), stride=(2, 2), padding=(1, 1))\n",
       "  (benc_0): BatchNorm2d(50, eps=1e-05, momentum=0.1, affine=True, track_running_stats=True)\n",
       "  (dec_0): ConvTranspose2d(50, 1, kernel_size=(4, 4), stride=(2, 2), padding=(1, 1))\n",
       "  (bdec_0): BatchNorm2d(1, eps=1e-05, momentum=0.1, affine=True, track_running_stats=True)\n",
       "  (enc_1): Conv2d(50, 50, kernel_size=(5, 5), stride=(2, 2), padding=(2, 2))\n",
       "  (benc_1): BatchNorm2d(50, eps=1e-05, momentum=0.1, affine=True, track_running_stats=True)\n",
       "  (dec_1): ConvTranspose2d(50, 50, kernel_size=(5, 5), stride=(2, 2), padding=(2, 2), output_padding=(1, 1))\n",
       "  (bdec_1): BatchNorm2d(50, eps=1e-05, momentum=0.1, affine=True, track_running_stats=True)\n",
       "  (enc_2): Conv2d(50, 50, kernel_size=(5, 5), stride=(2, 2), padding=(2, 2))\n",
       "  (benc_2): BatchNorm2d(50, eps=1e-05, momentum=0.1, affine=True, track_running_stats=True)\n",
       "  (dec_2): ConvTranspose2d(50, 50, kernel_size=(5, 5), stride=(2, 2), padding=(2, 2))\n",
       "  (bdec_2): BatchNorm2d(50, eps=1e-05, momentum=0.1, affine=True, track_running_stats=True)\n",
       "  (enc_3): Linear(in_features=800, out_features=10, bias=True)\n",
       "  (benc_3): BatchNorm2d(10, eps=1e-05, momentum=0.1, affine=True, track_running_stats=True)\n",
       "  (dec_3): ConvTranspose2d(10, 50, kernel_size=(4, 4), stride=(1, 1))\n",
       "  (bdec_3): BatchNorm2d(50, eps=1e-05, momentum=0.1, affine=True, track_running_stats=True)\n",
       "  (dropmodule1): Dropout(p=0.2, inplace=False)\n",
       "  (dropmodule2): Dropout(p=0.2, inplace=False)\n",
       "  (loss): MSELoss()\n",
       ")"
      ]
     },
     "execution_count": 5,
     "metadata": {},
     "output_type": "execute_result"
    }
   ],
   "source": [
    "net"
   ]
  },
  {
   "cell_type": "code",
   "execution_count": 6,
   "metadata": {
    "ExecuteTime": {
     "end_time": "2020-08-20T04:01:20.146022Z",
     "start_time": "2020-08-20T04:01:20.087575Z"
    }
   },
   "outputs": [],
   "source": [
    "import torch.optim as optim\n",
    "import torch.optim.lr_scheduler as lr_scheduler"
   ]
  },
  {
   "cell_type": "code",
   "execution_count": 7,
   "metadata": {
    "ExecuteTime": {
     "end_time": "2020-08-20T04:01:20.213917Z",
     "start_time": "2020-08-20T04:01:20.149973Z"
    }
   },
   "outputs": [],
   "source": [
    "lr =0.0001"
   ]
  },
  {
   "cell_type": "code",
   "execution_count": 8,
   "metadata": {
    "ExecuteTime": {
     "end_time": "2020-08-20T04:01:20.382602Z",
     "start_time": "2020-08-20T04:01:20.216571Z"
    }
   },
   "outputs": [],
   "source": [
    "numlayers = 4\n",
    "lr = 10\n",
    "maxepoch = 2\n",
    "stepsize = 10"
   ]
  },
  {
   "cell_type": "code",
   "execution_count": 9,
   "metadata": {
    "ExecuteTime": {
     "end_time": "2020-08-20T04:01:20.471914Z",
     "start_time": "2020-08-20T04:01:20.385686Z"
    }
   },
   "outputs": [],
   "source": [
    "for par in net.base[numlayers-1].parameters():\n",
    "    par.requires_grad = True"
   ]
  },
  {
   "cell_type": "code",
   "execution_count": 10,
   "metadata": {
    "ExecuteTime": {
     "end_time": "2020-08-20T04:01:20.567040Z",
     "start_time": "2020-08-20T04:01:20.474501Z"
    }
   },
   "outputs": [],
   "source": [
    "for par in net.bbase[numlayers-1].parameters():\n",
    "    par.requires_grad = True\n",
    "for m in net.bbase[numlayers-1].modules():\n",
    "    if isinstance(m, nn.BatchNorm2d):\n",
    "        m.training = True"
   ]
  },
  {
   "cell_type": "code",
   "execution_count": 11,
   "metadata": {
    "ExecuteTime": {
     "end_time": "2020-08-20T04:01:20.632314Z",
     "start_time": "2020-08-20T04:01:20.571512Z"
    }
   },
   "outputs": [],
   "source": [
    "# setting up optimizer - the bias params should have twice the learning rate w.r.t. weights params\n",
    "bias_params = filter(lambda x: ('bias' in x[0]) and (x[1].requires_grad), net.named_parameters())\n",
    "bias_params = list(map(lambda x: x[1], bias_params))\n",
    "nonbias_params = filter(lambda x: ('bias' not in x[0]) and (x[1].requires_grad), net.named_parameters())\n",
    "nonbias_params = list(map(lambda x: x[1], nonbias_params))"
   ]
  },
  {
   "cell_type": "code",
   "execution_count": 12,
   "metadata": {
    "ExecuteTime": {
     "end_time": "2020-08-20T04:01:20.693476Z",
     "start_time": "2020-08-20T04:01:20.634585Z"
    }
   },
   "outputs": [],
   "source": [
    "optimizer = optim.SGD([{'params': bias_params, 'lr': 2*lr}, {'params': nonbias_params}],\n",
    "                      lr=lr, momentum=0.9, weight_decay=0.0, nesterov=True)\n",
    "\n",
    "scheduler = lr_scheduler.StepLR(optimizer, step_size=200, gamma=0.1)"
   ]
  },
  {
   "cell_type": "code",
   "execution_count": 13,
   "metadata": {
    "ExecuteTime": {
     "end_time": "2020-08-20T04:01:20.921980Z",
     "start_time": "2020-08-20T04:01:20.696054Z"
    }
   },
   "outputs": [
    {
     "name": "stderr",
     "output_type": "stream",
     "text": [
      "WARNING:root:This caffe2 python run does not have GPU support. Will run in CPU only mode.\n"
     ]
    }
   ],
   "source": [
    "from torch.utils.tensorboard import SummaryWriter\n"
   ]
  },
  {
   "cell_type": "code",
   "execution_count": 43,
   "metadata": {
    "ExecuteTime": {
     "end_time": "2020-08-20T14:41:48.019664Z",
     "start_time": "2020-08-20T14:41:47.963800Z"
    }
   },
   "outputs": [],
   "source": [
    "writer = SummaryWriter('fashion_mnist_experiment_1')\n"
   ]
  },
  {
   "cell_type": "code",
   "execution_count": 15,
   "metadata": {
    "ExecuteTime": {
     "end_time": "2020-08-20T04:01:21.071774Z",
     "start_time": "2020-08-20T04:01:21.012087Z"
    }
   },
   "outputs": [],
   "source": [
    "datadir = get_data_dir(\"cmnist\")\n"
   ]
  },
  {
   "cell_type": "code",
   "execution_count": 16,
   "metadata": {
    "ExecuteTime": {
     "end_time": "2020-08-20T04:01:21.855382Z",
     "start_time": "2020-08-20T04:01:21.074119Z"
    }
   },
   "outputs": [],
   "source": [
    "trainset = DCCPT_data(root=datadir, train=True, h5=False)"
   ]
  },
  {
   "cell_type": "code",
   "execution_count": 17,
   "metadata": {
    "ExecuteTime": {
     "end_time": "2020-08-20T04:01:22.087181Z",
     "start_time": "2020-08-20T04:01:21.857910Z"
    }
   },
   "outputs": [],
   "source": [
    "trainloader = torch.utils.data.DataLoader(trainset, batch_size=256, shuffle=True)\n"
   ]
  },
  {
   "cell_type": "code",
   "execution_count": 18,
   "metadata": {
    "ExecuteTime": {
     "end_time": "2020-08-20T04:01:22.232672Z",
     "start_time": "2020-08-20T04:01:22.112544Z"
    }
   },
   "outputs": [],
   "source": [
    "dataiter = iter(trainloader)"
   ]
  },
  {
   "cell_type": "code",
   "execution_count": 19,
   "metadata": {
    "ExecuteTime": {
     "end_time": "2020-08-20T04:01:22.334502Z",
     "start_time": "2020-08-20T04:01:22.236470Z"
    },
    "scrolled": true
   },
   "outputs": [
    {
     "data": {
      "text/plain": [
       "[tensor([[[[0., 0., 0.,  ..., 0., 0., 0.],\n",
       "           [0., 0., 0.,  ..., 0., 0., 0.],\n",
       "           [0., 0., 0.,  ..., 0., 0., 0.],\n",
       "           ...,\n",
       "           [0., 0., 0.,  ..., 0., 0., 0.],\n",
       "           [0., 0., 0.,  ..., 0., 0., 0.],\n",
       "           [0., 0., 0.,  ..., 0., 0., 0.]]],\n",
       " \n",
       " \n",
       "         [[[0., 0., 0.,  ..., 0., 0., 0.],\n",
       "           [0., 0., 0.,  ..., 0., 0., 0.],\n",
       "           [0., 0., 0.,  ..., 0., 0., 0.],\n",
       "           ...,\n",
       "           [0., 0., 0.,  ..., 0., 0., 0.],\n",
       "           [0., 0., 0.,  ..., 0., 0., 0.],\n",
       "           [0., 0., 0.,  ..., 0., 0., 0.]]],\n",
       " \n",
       " \n",
       "         [[[0., 0., 0.,  ..., 0., 0., 0.],\n",
       "           [0., 0., 0.,  ..., 0., 0., 0.],\n",
       "           [0., 0., 0.,  ..., 0., 0., 0.],\n",
       "           ...,\n",
       "           [0., 0., 0.,  ..., 0., 0., 0.],\n",
       "           [0., 0., 0.,  ..., 0., 0., 0.],\n",
       "           [0., 0., 0.,  ..., 0., 0., 0.]]],\n",
       " \n",
       " \n",
       "         ...,\n",
       " \n",
       " \n",
       "         [[[0., 0., 0.,  ..., 0., 0., 0.],\n",
       "           [0., 0., 0.,  ..., 0., 0., 0.],\n",
       "           [0., 0., 0.,  ..., 0., 0., 0.],\n",
       "           ...,\n",
       "           [0., 0., 0.,  ..., 0., 0., 0.],\n",
       "           [0., 0., 0.,  ..., 0., 0., 0.],\n",
       "           [0., 0., 0.,  ..., 0., 0., 0.]]],\n",
       " \n",
       " \n",
       "         [[[0., 0., 0.,  ..., 0., 0., 0.],\n",
       "           [0., 0., 0.,  ..., 0., 0., 0.],\n",
       "           [0., 0., 0.,  ..., 0., 0., 0.],\n",
       "           ...,\n",
       "           [0., 0., 0.,  ..., 0., 0., 0.],\n",
       "           [0., 0., 0.,  ..., 0., 0., 0.],\n",
       "           [0., 0., 0.,  ..., 0., 0., 0.]]],\n",
       " \n",
       " \n",
       "         [[[0., 0., 0.,  ..., 0., 0., 0.],\n",
       "           [0., 0., 0.,  ..., 0., 0., 0.],\n",
       "           [0., 0., 0.,  ..., 0., 0., 0.],\n",
       "           ...,\n",
       "           [0., 0., 0.,  ..., 0., 0., 0.],\n",
       "           [0., 0., 0.,  ..., 0., 0., 0.],\n",
       "           [0., 0., 0.,  ..., 0., 0., 0.]]]]),\n",
       " tensor([1, 4, 3, 8, 1, 9, 1, 2, 4, 5, 1, 2, 3, 4, 2, 4, 6, 8, 0, 0, 3, 7, 6, 6,\n",
       "         1, 9, 3, 3, 0, 1, 8, 3, 1, 9, 4, 0, 3, 6, 7, 5, 1, 8, 1, 7, 9, 6, 8, 2,\n",
       "         4, 8, 6, 2, 7, 3, 5, 7, 0, 9, 5, 5, 1, 7, 9, 6, 9, 7, 4, 6, 0, 0, 5, 7,\n",
       "         9, 5, 0, 2, 4, 6, 9, 8, 5, 9, 1, 7, 2, 0, 8, 4, 6, 5, 8, 1, 1, 3, 5, 3,\n",
       "         1, 5, 8, 4, 2, 5, 0, 9, 1, 9, 4, 2, 7, 9, 0, 7, 3, 0, 7, 9, 5, 2, 8, 7,\n",
       "         0, 0, 1, 1, 2, 5, 2, 8, 1, 8, 7, 8, 6, 1, 8, 4, 6, 5, 1, 2, 3, 4, 7, 9,\n",
       "         3, 1, 0, 9, 7, 8, 0, 9, 8, 7, 1, 9, 0, 1, 7, 3, 1, 7, 0, 6, 7, 6, 7, 3,\n",
       "         8, 5, 4, 7, 1, 3, 1, 9, 1, 9, 9, 1, 2, 9, 2, 1, 7, 2, 8, 5, 0, 4, 1, 6,\n",
       "         2, 7, 3, 7, 9, 6, 7, 1, 7, 0, 8, 0, 9, 2, 1, 4, 2, 7, 3, 9, 2, 7, 7, 2,\n",
       "         9, 5, 2, 3, 5, 5, 4, 1, 9, 4, 0, 4, 3, 4, 4, 5, 2, 3, 1, 3, 5, 4, 8, 7,\n",
       "         7, 1, 0, 3, 2, 5, 0, 4, 6, 0, 2, 0, 2, 0, 9, 3], dtype=torch.uint8)]"
      ]
     },
     "execution_count": 19,
     "metadata": {},
     "output_type": "execute_result"
    }
   ],
   "source": [
    "dataiter.next()"
   ]
  },
  {
   "cell_type": "code",
   "execution_count": 20,
   "metadata": {
    "ExecuteTime": {
     "end_time": "2020-08-20T04:01:22.563975Z",
     "start_time": "2020-08-20T04:01:22.337584Z"
    }
   },
   "outputs": [],
   "source": [
    "images, labels = dataiter.next()\n"
   ]
  },
  {
   "cell_type": "code",
   "execution_count": 21,
   "metadata": {
    "ExecuteTime": {
     "end_time": "2020-08-20T04:01:22.643236Z",
     "start_time": "2020-08-20T04:01:22.569302Z"
    }
   },
   "outputs": [
    {
     "data": {
      "text/plain": [
       "torch.Size([256, 1, 28, 28])"
      ]
     },
     "execution_count": 21,
     "metadata": {},
     "output_type": "execute_result"
    }
   ],
   "source": [
    "images.shape"
   ]
  },
  {
   "cell_type": "code",
   "execution_count": 22,
   "metadata": {
    "ExecuteTime": {
     "end_time": "2020-08-20T04:01:22.720567Z",
     "start_time": "2020-08-20T04:01:22.645601Z"
    }
   },
   "outputs": [
    {
     "data": {
      "text/plain": [
       "tensor(3)"
      ]
     },
     "execution_count": 22,
     "metadata": {},
     "output_type": "execute_result"
    }
   ],
   "source": [
    "torch.tensor(3)"
   ]
  },
  {
   "cell_type": "code",
   "execution_count": 28,
   "metadata": {
    "ExecuteTime": {
     "end_time": "2020-08-20T04:00:08.227808Z",
     "start_time": "2020-08-20T04:00:08.158284Z"
    }
   },
   "outputs": [
    {
     "data": {
      "text/plain": [
       "tensor([7, 3, 9, 3, 2, 8, 0, 4, 6, 7, 5, 3, 4, 0, 1, 3, 4, 6, 3, 3, 9, 5, 1, 4,\n",
       "        0, 7, 6, 2, 3, 1, 8, 5, 4, 0, 1, 8, 0, 5, 0, 0, 6, 2, 6, 3, 8, 6, 1, 9,\n",
       "        9, 2, 1, 3, 5, 5, 3, 9, 4, 7, 5, 0, 9, 9, 3, 0, 1, 3, 7, 8, 2, 6, 2, 2,\n",
       "        0, 6, 8, 2, 3, 0, 9, 0, 1, 9, 2, 8, 6, 2, 0, 9, 2, 2, 6, 6, 9, 4, 3, 5,\n",
       "        7, 3, 8, 1, 7, 9, 7, 1, 0, 8, 1, 2, 1, 8, 2, 6, 9, 1, 6, 7, 5, 9, 0, 5,\n",
       "        2, 9, 9, 8, 8, 6, 8, 5, 5, 6, 5, 0, 6, 5, 8, 8, 9, 9, 4, 5, 2, 8, 0, 2,\n",
       "        1, 6, 2, 2, 4, 3, 3, 8, 9, 1, 0, 7, 8, 0, 2, 4, 5, 5, 6, 1, 7, 0, 6, 4,\n",
       "        4, 0, 7, 0, 4, 1, 9, 8, 4, 3, 6, 2, 3, 9, 4, 5, 0, 8, 1, 2, 6, 7, 3, 4,\n",
       "        3, 3, 7, 7, 2, 9, 5, 7, 5, 1, 7, 5, 1, 3, 6, 0, 5, 0, 0, 4, 2, 2, 9, 2,\n",
       "        9, 7, 5, 5, 2, 8, 1, 5, 1, 1, 3, 1, 7, 3, 4, 6, 2, 6, 3, 3, 9, 2, 5, 9,\n",
       "        0, 2, 7, 5, 0, 7, 4, 0, 2, 6, 6, 4, 6, 4, 7, 0], dtype=torch.uint8)"
      ]
     },
     "execution_count": 28,
     "metadata": {},
     "output_type": "execute_result"
    }
   ],
   "source": [
    "labels"
   ]
  },
  {
   "cell_type": "code",
   "execution_count": 58,
   "metadata": {
    "ExecuteTime": {
     "end_time": "2020-08-20T14:48:00.584578Z",
     "start_time": "2020-08-20T14:48:00.285405Z"
    }
   },
   "outputs": [
    {
     "data": {
      "text/plain": [
       "tensor(0.7563, grad_fn=<MeanBackward0>)"
      ]
     },
     "execution_count": 58,
     "metadata": {},
     "output_type": "execute_result"
    }
   ],
   "source": [
    "net(images, torch.tensor(1))"
   ]
  },
  {
   "cell_type": "code",
   "execution_count": 59,
   "metadata": {
    "ExecuteTime": {
     "end_time": "2020-08-20T14:52:25.651641Z",
     "start_time": "2020-08-20T14:52:25.595200Z"
    }
   },
   "outputs": [],
   "source": [
    "writer = SummaryWriter('fashion_mnist_experiment_1')\n"
   ]
  },
  {
   "cell_type": "code",
   "execution_count": 61,
   "metadata": {
    "ExecuteTime": {
     "end_time": "2020-08-20T14:52:43.473787Z",
     "start_time": "2020-08-20T14:52:42.626529Z"
    },
    "scrolled": true
   },
   "outputs": [],
   "source": [
    "writer.add_graph(net, (images, torch.tensor(4)))\n",
    "# writer.close()"
   ]
  },
  {
   "cell_type": "code",
   "execution_count": null,
   "metadata": {},
   "outputs": [],
   "source": []
  }
 ],
 "metadata": {
  "kernelspec": {
   "display_name": "mmc",
   "language": "python",
   "name": "mmc"
  },
  "toc": {
   "base_numbering": 1,
   "nav_menu": {},
   "number_sections": true,
   "sideBar": true,
   "skip_h1_title": false,
   "title_cell": "Table of Contents",
   "title_sidebar": "Contents",
   "toc_cell": false,
   "toc_position": {},
   "toc_section_display": true,
   "toc_window_display": false
  }
 },
 "nbformat": 4,
 "nbformat_minor": 4
}
