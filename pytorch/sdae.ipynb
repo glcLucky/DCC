{
 "cells": [
  {
   "cell_type": "code",
   "execution_count": 1,
   "metadata": {
    "ExecuteTime": {
     "end_time": "2020-08-20T02:58:49.638090Z",
     "start_time": "2020-08-20T02:58:49.091150Z"
    }
   },
   "outputs": [
    {
     "data": {
      "text/html": [
       "<style>.container { width:80% !important; }</style>"
      ],
      "text/plain": [
       "<IPython.core.display.HTML object>"
      ]
     },
     "metadata": {},
     "output_type": "display_data"
    }
   ],
   "source": [
    "# hide pakcage non critical warnings\n",
    "\n",
    "import warnings\n",
    "\n",
    "warnings.filterwarnings('ignore')\n",
    "\n",
    "from IPython.core.display import display, HTML\n",
    "display(HTML(\"<style>.container { width:80% !important; }</style>\"))\n",
    "\n",
    "\n",
    "%load_ext autoreload\n",
    "%autoreload 2\n",
    "\n",
    "%matplotlib inline"
   ]
  },
  {
   "cell_type": "code",
   "execution_count": 5,
   "metadata": {
    "ExecuteTime": {
     "end_time": "2020-08-20T02:59:22.491422Z",
     "start_time": "2020-08-20T02:59:22.424982Z"
    }
   },
   "outputs": [],
   "source": [
    "import matplotlib.pyplot as plt\n",
    "\n",
    "import scipy.io as sio\n",
    "\n",
    "import torch\n",
    "import torch.nn as nn\n",
    "\n",
    "import torch.nn.functional as F\n",
    "import torch.nn.init as init\n",
    "\n",
    "from custom_data import DCCPT_data\n",
    "\n",
    "from config import cfg, get_data_dir, get_output_dir, AverageMeter, remove_files_in_dir\n",
    "from SDAE import SDAE\n",
    "from tensorboard_logger import Logger\n",
    "\n",
    "import os\n",
    "import random\n",
    "import numpy as np\n",
    "\n",
    "import data_params as dp"
   ]
  },
  {
   "cell_type": "code",
   "execution_count": 4,
   "metadata": {
    "ExecuteTime": {
     "end_time": "2020-08-20T02:58:55.254426Z",
     "start_time": "2020-08-20T02:58:54.990555Z"
    }
   },
   "outputs": [],
   "source": [
    "import devkit.api as dk"
   ]
  },
  {
   "cell_type": "code",
   "execution_count": 43,
   "metadata": {
    "ExecuteTime": {
     "end_time": "2020-08-20T03:07:02.671235Z",
     "start_time": "2020-08-20T03:07:02.553334Z"
    }
   },
   "outputs": [],
   "source": [
    "net = SDAE(dim=[784, 500, 500, 2000, 10], dropout=0.2, slope=0)"
   ]
  },
  {
   "cell_type": "code",
   "execution_count": 44,
   "metadata": {
    "ExecuteTime": {
     "end_time": "2020-08-20T03:08:09.910580Z",
     "start_time": "2020-08-20T03:08:09.858816Z"
    }
   },
   "outputs": [],
   "source": [
    "criterion = nn.MSELoss()\n",
    "optimizer = optim.SGD(net.parameters(), lr=0.001, momentum=0.9)"
   ]
  },
  {
   "cell_type": "code",
   "execution_count": null,
   "metadata": {},
   "outputs": [],
   "source": []
  },
  {
   "cell_type": "code",
   "execution_count": 47,
   "metadata": {
    "ExecuteTime": {
     "end_time": "2020-08-20T03:22:29.872278Z",
     "start_time": "2020-08-20T03:22:29.808903Z"
    }
   },
   "outputs": [
    {
     "data": {
      "text/plain": [
       "SDAE(\n",
       "  (enc_0): Linear(in_features=784, out_features=500, bias=True)\n",
       "  (dec_0): Linear(in_features=500, out_features=784, bias=True)\n",
       "  (enc_1): Linear(in_features=500, out_features=500, bias=True)\n",
       "  (dec_1): Linear(in_features=500, out_features=500, bias=True)\n",
       "  (enc_2): Linear(in_features=500, out_features=2000, bias=True)\n",
       "  (dec_2): Linear(in_features=2000, out_features=500, bias=True)\n",
       "  (enc_3): Linear(in_features=2000, out_features=10, bias=True)\n",
       "  (dec_3): Linear(in_features=10, out_features=2000, bias=True)\n",
       "  (dropmodule1): Dropout(p=0.2, inplace=False)\n",
       "  (dropmodule2): Dropout(p=0.2, inplace=False)\n",
       "  (loss): MSELoss()\n",
       ")"
      ]
     },
     "execution_count": 47,
     "metadata": {},
     "output_type": "execute_result"
    }
   ],
   "source": [
    "net"
   ]
  },
  {
   "cell_type": "code",
   "execution_count": 14,
   "metadata": {
    "ExecuteTime": {
     "end_time": "2020-08-20T03:00:43.788738Z",
     "start_time": "2020-08-20T03:00:43.709064Z"
    }
   },
   "outputs": [],
   "source": [
    "import torch.optim as optim\n",
    "import torch.optim.lr_scheduler as lr_scheduler"
   ]
  },
  {
   "cell_type": "code",
   "execution_count": null,
   "metadata": {},
   "outputs": [],
   "source": []
  },
  {
   "cell_type": "code",
   "execution_count": 15,
   "metadata": {
    "ExecuteTime": {
     "end_time": "2020-08-20T03:00:44.418956Z",
     "start_time": "2020-08-20T03:00:44.368223Z"
    }
   },
   "outputs": [],
   "source": [
    "lr =0.0001"
   ]
  },
  {
   "cell_type": "code",
   "execution_count": 16,
   "metadata": {
    "ExecuteTime": {
     "end_time": "2020-08-20T03:00:44.627476Z",
     "start_time": "2020-08-20T03:00:44.582839Z"
    }
   },
   "outputs": [],
   "source": [
    "numlayers = 4\n",
    "lr = 10\n",
    "maxepoch = 200\n",
    "stepsize = 1000"
   ]
  },
  {
   "cell_type": "code",
   "execution_count": 17,
   "metadata": {
    "ExecuteTime": {
     "end_time": "2020-08-20T03:00:44.866216Z",
     "start_time": "2020-08-20T03:00:44.816427Z"
    }
   },
   "outputs": [],
   "source": [
    "for par in net.base[numlayers-1].parameters():\n",
    "    par.requires_grad = True"
   ]
  },
  {
   "cell_type": "code",
   "execution_count": 18,
   "metadata": {
    "ExecuteTime": {
     "end_time": "2020-08-20T03:00:45.380261Z",
     "start_time": "2020-08-20T03:00:45.334850Z"
    }
   },
   "outputs": [],
   "source": [
    "# setting up optimizer - the bias params should have twice the learning rate w.r.t. weights params\n",
    "bias_params = filter(lambda x: ('bias' in x[0]) and (x[1].requires_grad), net.named_parameters())\n",
    "bias_params = list(map(lambda x: x[1], bias_params))\n",
    "nonbias_params = filter(lambda x: ('bias' not in x[0]) and (x[1].requires_grad), net.named_parameters())\n",
    "nonbias_params = list(map(lambda x: x[1], nonbias_params))"
   ]
  },
  {
   "cell_type": "code",
   "execution_count": 19,
   "metadata": {
    "ExecuteTime": {
     "end_time": "2020-08-20T03:00:49.439035Z",
     "start_time": "2020-08-20T03:00:49.391457Z"
    }
   },
   "outputs": [],
   "source": [
    "optimizer = optim.SGD([{'params': bias_params, 'lr': 2*lr}, {'params': nonbias_params}],\n",
    "                      lr=lr, momentum=0.9, weight_decay=0.0, nesterov=True)\n",
    "\n",
    "scheduler = lr_scheduler.StepLR(optimizer, step_size=200, gamma=0.1)"
   ]
  },
  {
   "cell_type": "code",
   "execution_count": 37,
   "metadata": {
    "ExecuteTime": {
     "end_time": "2020-08-20T03:03:39.195579Z",
     "start_time": "2020-08-20T03:03:39.123105Z"
    }
   },
   "outputs": [],
   "source": [
    "from torch.utils.tensorboard import SummaryWriter\n"
   ]
  },
  {
   "cell_type": "code",
   "execution_count": 38,
   "metadata": {
    "ExecuteTime": {
     "end_time": "2020-08-20T03:03:39.603287Z",
     "start_time": "2020-08-20T03:03:39.541372Z"
    }
   },
   "outputs": [],
   "source": [
    "writer = SummaryWriter('fashion_mnist_experiment_1')\n"
   ]
  },
  {
   "cell_type": "code",
   "execution_count": 21,
   "metadata": {
    "ExecuteTime": {
     "end_time": "2020-08-20T03:00:59.321788Z",
     "start_time": "2020-08-20T03:00:59.265335Z"
    }
   },
   "outputs": [],
   "source": [
    "datadir = get_data_dir(\"mnist\")\n"
   ]
  },
  {
   "cell_type": "code",
   "execution_count": 22,
   "metadata": {
    "ExecuteTime": {
     "end_time": "2020-08-20T03:01:00.942229Z",
     "start_time": "2020-08-20T03:01:00.199962Z"
    }
   },
   "outputs": [],
   "source": [
    "trainset = DCCPT_data(root=datadir, train=True, h5=False)"
   ]
  },
  {
   "cell_type": "code",
   "execution_count": 23,
   "metadata": {
    "ExecuteTime": {
     "end_time": "2020-08-20T03:01:01.581196Z",
     "start_time": "2020-08-20T03:01:01.518265Z"
    }
   },
   "outputs": [],
   "source": [
    "trainloader = torch.utils.data.DataLoader(trainset, batch_size=256, shuffle=True)\n"
   ]
  },
  {
   "cell_type": "code",
   "execution_count": 24,
   "metadata": {
    "ExecuteTime": {
     "end_time": "2020-08-20T03:01:01.909122Z",
     "start_time": "2020-08-20T03:01:01.836367Z"
    }
   },
   "outputs": [],
   "source": [
    "dataiter = iter(trainloader)"
   ]
  },
  {
   "cell_type": "code",
   "execution_count": 25,
   "metadata": {
    "ExecuteTime": {
     "end_time": "2020-08-20T03:01:02.768269Z",
     "start_time": "2020-08-20T03:01:02.676215Z"
    }
   },
   "outputs": [
    {
     "data": {
      "text/plain": [
       "[tensor([[0., 0., 0.,  ..., 0., 0., 0.],\n",
       "         [0., 0., 0.,  ..., 0., 0., 0.],\n",
       "         [0., 0., 0.,  ..., 0., 0., 0.],\n",
       "         ...,\n",
       "         [0., 0., 0.,  ..., 0., 0., 0.],\n",
       "         [0., 0., 0.,  ..., 0., 0., 0.],\n",
       "         [0., 0., 0.,  ..., 0., 0., 0.]]),\n",
       " tensor([6, 7, 3, 9, 6, 8, 5, 2, 7, 5, 7, 5, 5, 9, 0, 8, 0, 2, 5, 0, 1, 1, 6, 5,\n",
       "         7, 3, 7, 4, 8, 9, 5, 3, 3, 5, 7, 2, 2, 0, 8, 1, 3, 3, 7, 0, 1, 7, 7, 6,\n",
       "         5, 5, 9, 3, 8, 6, 8, 2, 6, 2, 1, 7, 1, 6, 9, 9, 2, 1, 4, 5, 8, 4, 4, 4,\n",
       "         1, 4, 1, 3, 5, 0, 0, 4, 2, 3, 7, 6, 0, 9, 0, 7, 6, 0, 9, 6, 5, 6, 4, 9,\n",
       "         0, 9, 7, 3, 2, 8, 5, 5, 7, 8, 3, 2, 6, 4, 4, 1, 4, 0, 0, 7, 1, 3, 1, 5,\n",
       "         2, 1, 6, 5, 1, 4, 5, 9, 4, 2, 5, 8, 5, 2, 2, 4, 5, 2, 0, 4, 6, 7, 9, 9,\n",
       "         7, 3, 4, 9, 7, 2, 6, 2, 7, 0, 1, 0, 7, 8, 6, 2, 6, 6, 5, 2, 0, 8, 1, 3,\n",
       "         0, 3, 7, 7, 8, 8, 0, 2, 6, 9, 7, 1, 8, 6, 9, 8, 8, 5, 3, 1, 5, 4, 5, 8,\n",
       "         6, 6, 4, 5, 2, 0, 6, 1, 9, 1, 3, 1, 1, 4, 0, 6, 2, 2, 8, 9, 2, 1, 4, 7,\n",
       "         8, 3, 4, 9, 3, 5, 5, 2, 1, 6, 7, 6, 6, 0, 9, 7, 9, 7, 2, 3, 3, 1, 9, 7,\n",
       "         6, 9, 2, 4, 9, 3, 1, 8, 8, 8, 9, 0, 2, 5, 8, 6], dtype=torch.uint8)]"
      ]
     },
     "execution_count": 25,
     "metadata": {},
     "output_type": "execute_result"
    }
   ],
   "source": [
    "dataiter.next()"
   ]
  },
  {
   "cell_type": "code",
   "execution_count": 26,
   "metadata": {
    "ExecuteTime": {
     "end_time": "2020-08-20T03:01:05.775490Z",
     "start_time": "2020-08-20T03:01:05.695409Z"
    }
   },
   "outputs": [],
   "source": [
    "images, labels = dataiter.next()\n"
   ]
  },
  {
   "cell_type": "code",
   "execution_count": 27,
   "metadata": {
    "ExecuteTime": {
     "end_time": "2020-08-20T03:01:06.001735Z",
     "start_time": "2020-08-20T03:01:05.924957Z"
    }
   },
   "outputs": [
    {
     "data": {
      "text/plain": [
       "torch.Size([256, 784])"
      ]
     },
     "execution_count": 27,
     "metadata": {},
     "output_type": "execute_result"
    }
   ],
   "source": [
    "images.shape"
   ]
  },
  {
   "cell_type": "code",
   "execution_count": 28,
   "metadata": {
    "ExecuteTime": {
     "end_time": "2020-08-20T03:01:08.475837Z",
     "start_time": "2020-08-20T03:01:08.408054Z"
    }
   },
   "outputs": [
    {
     "data": {
      "text/plain": [
       "tensor(3)"
      ]
     },
     "execution_count": 28,
     "metadata": {},
     "output_type": "execute_result"
    }
   ],
   "source": [
    "torch.tensor(3)"
   ]
  },
  {
   "cell_type": "code",
   "execution_count": 29,
   "metadata": {
    "ExecuteTime": {
     "end_time": "2020-08-20T03:01:09.388676Z",
     "start_time": "2020-08-20T03:01:09.311123Z"
    }
   },
   "outputs": [
    {
     "data": {
      "text/plain": [
       "tensor([3, 0, 0, 8, 3, 1, 4, 8, 1, 2, 2, 6, 2, 3, 5, 3, 1, 0, 1, 5, 7, 5, 0, 1,\n",
       "        6, 2, 6, 3, 6, 5, 8, 8, 5, 8, 6, 6, 4, 7, 6, 0, 3, 5, 5, 9, 2, 6, 5, 3,\n",
       "        8, 9, 8, 6, 6, 9, 6, 2, 3, 4, 6, 9, 7, 7, 5, 2, 2, 1, 0, 3, 6, 4, 1, 3,\n",
       "        3, 8, 2, 2, 3, 2, 8, 6, 8, 4, 4, 5, 3, 6, 1, 2, 7, 3, 8, 9, 1, 3, 9, 6,\n",
       "        0, 6, 5, 0, 6, 6, 8, 6, 3, 1, 2, 0, 5, 7, 6, 8, 6, 8, 2, 5, 6, 2, 1, 1,\n",
       "        8, 3, 5, 7, 1, 0, 1, 8, 9, 6, 2, 6, 0, 0, 4, 5, 1, 6, 6, 7, 0, 4, 4, 0,\n",
       "        1, 2, 6, 8, 5, 5, 9, 3, 2, 4, 9, 5, 8, 5, 4, 4, 4, 7, 4, 5, 5, 4, 5, 3,\n",
       "        4, 4, 8, 9, 9, 7, 5, 7, 5, 4, 9, 2, 0, 3, 3, 2, 8, 2, 2, 2, 7, 6, 5, 7,\n",
       "        2, 0, 3, 4, 0, 9, 9, 7, 7, 9, 1, 6, 8, 6, 8, 3, 4, 6, 7, 2, 4, 9, 8, 7,\n",
       "        9, 7, 8, 7, 0, 0, 8, 2, 1, 0, 2, 4, 8, 6, 5, 3, 2, 6, 1, 7, 3, 2, 9, 5,\n",
       "        6, 5, 6, 1, 4, 6, 1, 6, 6, 7, 2, 3, 0, 2, 2, 8], dtype=torch.uint8)"
      ]
     },
     "execution_count": 29,
     "metadata": {},
     "output_type": "execute_result"
    }
   ],
   "source": [
    "labels"
   ]
  },
  {
   "cell_type": "code",
   "execution_count": null,
   "metadata": {},
   "outputs": [],
   "source": []
  },
  {
   "cell_type": "code",
   "execution_count": 30,
   "metadata": {
    "ExecuteTime": {
     "end_time": "2020-08-20T03:01:10.895639Z",
     "start_time": "2020-08-20T03:01:10.793733Z"
    }
   },
   "outputs": [],
   "source": [
    "def make_dot(var):\n",
    "    node_attr = dict(style='filled',\n",
    "                     shape='box',\n",
    "                     align='left',\n",
    "                     fontsize='12',\n",
    "                     ranksep='0.1',\n",
    "                     height='0.2')\n",
    "    dot = Digraph(node_attr=node_attr, graph_attr=dict(size=\"12,12\"))\n",
    "    seen = set()\n",
    "\n",
    "    def add_nodes(var):\n",
    "        if var not in seen:\n",
    "            if isinstance(var, Variable):\n",
    "                value = '('+(', ').join(['%d'% v for v in var.size()])+')'\n",
    "                dot.node(str(id(var)), str(value), fillcolor='lightblue')\n",
    "            else:\n",
    "                dot.node(str(id(var)), str(type(var).__name__))\n",
    "            seen.add(var)\n",
    "            if hasattr(var, 'previous_functions'):\n",
    "                for u in var.previous_functions:\n",
    "                    dot.edge(str(id(u[0])), str(id(var)))\n",
    "                    add_nodes(u[0])\n",
    "    add_nodes(var.creator)\n",
    "    return dot"
   ]
  },
  {
   "cell_type": "code",
   "execution_count": 31,
   "metadata": {
    "ExecuteTime": {
     "end_time": "2020-08-20T03:01:13.993999Z",
     "start_time": "2020-08-20T03:01:13.925936Z"
    }
   },
   "outputs": [],
   "source": [
    "from graphviz import Digraph"
   ]
  },
  {
   "cell_type": "code",
   "execution_count": 32,
   "metadata": {
    "ExecuteTime": {
     "end_time": "2020-08-20T03:01:14.286293Z",
     "start_time": "2020-08-20T03:01:14.208196Z"
    }
   },
   "outputs": [
    {
     "data": {
      "text/plain": [
       "torch.Size([256, 784])"
      ]
     },
     "execution_count": 32,
     "metadata": {},
     "output_type": "execute_result"
    }
   ],
   "source": [
    "images.shape"
   ]
  },
  {
   "cell_type": "code",
   "execution_count": 33,
   "metadata": {
    "ExecuteTime": {
     "end_time": "2020-08-20T03:01:14.822539Z",
     "start_time": "2020-08-20T03:01:14.740341Z"
    }
   },
   "outputs": [],
   "source": [
    "from torch.autograd import Variable\n"
   ]
  },
  {
   "cell_type": "code",
   "execution_count": 34,
   "metadata": {
    "ExecuteTime": {
     "end_time": "2020-08-20T03:01:15.430277Z",
     "start_time": "2020-08-20T03:01:15.324354Z"
    }
   },
   "outputs": [
    {
     "name": "stdout",
     "output_type": "stream",
     "text": [
      "tensor(2.4510e-05, grad_fn=<MeanBackward0>)\n"
     ]
    }
   ],
   "source": [
    "inputs = torch.randn(256,1,28,28)\n",
    "y = net(Variable(inputs), 3)\n",
    "print(y)"
   ]
  },
  {
   "cell_type": "code",
   "execution_count": 42,
   "metadata": {
    "ExecuteTime": {
     "end_time": "2020-08-20T03:05:47.641494Z",
     "start_time": "2020-08-20T03:05:47.566916Z"
    }
   },
   "outputs": [
    {
     "data": {
      "text/plain": [
       "torch.Size([256, 784])"
      ]
     },
     "execution_count": 42,
     "metadata": {},
     "output_type": "execute_result"
    }
   ],
   "source": [
    "images.shape"
   ]
  },
  {
   "cell_type": "code",
   "execution_count": 45,
   "metadata": {
    "ExecuteTime": {
     "end_time": "2020-08-20T03:08:38.678560Z",
     "start_time": "2020-08-20T03:08:38.542254Z"
    },
    "scrolled": true
   },
   "outputs": [
    {
     "ename": "TracingCheckError",
     "evalue": "Tracing failed sanity checks!\nERROR: Graphs differed across invocations!\n\tGraph diff:\n\t\t  graph(%self : ClassType<SDAE>,\n\t\t        %x : Tensor,\n\t\t        %index : Tensor):\n\t\t    %3 : ClassType<Linear> = prim::GetAttr[name=\"enc_0\"](%self)\n\t\t    %weight.1 : Tensor = prim::GetAttr[name=\"weight\"](%3)\n\t\t    %bias.1 : Tensor = prim::GetAttr[name=\"bias\"](%3)\n\t\t    %6 : ClassType<Linear> = prim::GetAttr[name=\"enc_1\"](%self)\n\t\t    %weight.2 : Tensor = prim::GetAttr[name=\"weight\"](%6)\n\t\t    %bias.2 : Tensor = prim::GetAttr[name=\"bias\"](%6)\n\t\t    %9 : ClassType<Linear> = prim::GetAttr[name=\"enc_2\"](%self)\n\t\t    %weight.3 : Tensor = prim::GetAttr[name=\"weight\"](%9)\n\t\t    %bias.3 : Tensor = prim::GetAttr[name=\"bias\"](%9)\n\t\t    %12 : ClassType<Linear> = prim::GetAttr[name=\"enc_3\"](%self)\n\t\t    %weight.4 : Tensor = prim::GetAttr[name=\"weight\"](%12)\n\t\t    %bias.4 : Tensor = prim::GetAttr[name=\"bias\"](%12)\n\t\t    %15 : ClassType<Linear> = prim::GetAttr[name=\"dec_3\"](%self)\n\t\t    %weight : Tensor = prim::GetAttr[name=\"weight\"](%15)\n\t\t    %bias : Tensor = prim::GetAttr[name=\"bias\"](%15)\n\t\t    %18 : int = prim::Constant[value=-1](), scope: SDAE # /Users/jasper/dev/DCC/pytorch/SDAE.py:34:0\n\t\t    %19 : int = prim::Constant[value=784](), scope: SDAE # /Users/jasper/dev/DCC/pytorch/SDAE.py:34:0\n\t\t    %20 : int[] = prim::ListConstruct(%18, %19), scope: SDAE\n\t\t    %input.1 : Tensor = aten::view(%x, %20), scope: SDAE # /Users/jasper/dev/DCC/pytorch/SDAE.py:34:0\n\t\t    %22 : Tensor = aten::t(%weight.1), scope: SDAE/Linear[enc_0] # /Users/jasper/opt/miniconda3/envs/mmc/lib/python3.6/site-packages/torch/nn/functional.py:1369:0\n\t\t    %23 : int = prim::Constant[value=1](), scope: SDAE/Linear[enc_0] # /Users/jasper/opt/miniconda3/envs/mmc/lib/python3.6/site-packages/torch/nn/functional.py:1369:0\n\t\t    %24 : int = prim::Constant[value=1](), scope: SDAE/Linear[enc_0] # /Users/jasper/opt/miniconda3/envs/mmc/lib/python3.6/site-packages/torch/nn/functional.py:1369:0\n\t\t    %input.2 : Tensor = aten::addmm(%bias.1, %input.1, %22, %23, %24), scope: SDAE/Linear[enc_0] # /Users/jasper/opt/miniconda3/envs/mmc/lib/python3.6/site-packages/torch/nn/functional.py:1369:0\n\t\t    %26 : int = prim::Constant[value=0](), scope: SDAE # /Users/jasper/opt/miniconda3/envs/mmc/lib/python3.6/site-packages/torch/nn/functional.py:1062:0\n\t\t    %input.3 : Tensor = aten::leaky_relu(%input.2, %26), scope: SDAE # /Users/jasper/opt/miniconda3/envs/mmc/lib/python3.6/site-packages/torch/nn/functional.py:1062:0\n\t\t    %28 : Tensor = aten::t(%weight.2), scope: SDAE/Linear[enc_1] # /Users/jasper/opt/miniconda3/envs/mmc/lib/python3.6/site-packages/torch/nn/functional.py:1369:0\n\t\t    %29 : int = prim::Constant[value=1](), scope: SDAE/Linear[enc_1] # /Users/jasper/opt/miniconda3/envs/mmc/lib/python3.6/site-packages/torch/nn/functional.py:1369:0\n\t\t    %30 : int = prim::Constant[value=1](), scope: SDAE/Linear[enc_1] # /Users/jasper/opt/miniconda3/envs/mmc/lib/python3.6/site-packages/torch/nn/functional.py:1369:0\n\t\t    %input.4 : Tensor = aten::addmm(%bias.2, %input.3, %28, %29, %30), scope: SDAE/Linear[enc_1] # /Users/jasper/opt/miniconda3/envs/mmc/lib/python3.6/site-packages/torch/nn/functional.py:1369:0\n\t\t    %32 : int = prim::Constant[value=0](), scope: SDAE # /Users/jasper/opt/miniconda3/envs/mmc/lib/python3.6/site-packages/torch/nn/functional.py:1062:0\n\t\t    %input.5 : Tensor = aten::leaky_relu(%input.4, %32), scope: SDAE # /Users/jasper/opt/miniconda3/envs/mmc/lib/python3.6/site-packages/torch/nn/functional.py:1062:0\n\t\t    %34 : Tensor = aten::t(%weight.3), scope: SDAE/Linear[enc_2] # /Users/jasper/opt/miniconda3/envs/mmc/lib/python3.6/site-packages/torch/nn/functional.py:1369:0\n\t\t    %35 : int = prim::Constant[value=1](), scope: SDAE/Linear[enc_2] # /Users/jasper/opt/miniconda3/envs/mmc/lib/python3.6/site-packages/torch/nn/functional.py:1369:0\n\t\t    %36 : int = prim::Constant[value=1](), scope: SDAE/Linear[enc_2] # /Users/jasper/opt/miniconda3/envs/mmc/lib/python3.6/site-packages/torch/nn/functional.py:1369:0\n\t\t    %input.6 : Tensor = aten::addmm(%bias.3, %input.5, %34, %35, %36), scope: SDAE/Linear[enc_2] # /Users/jasper/opt/miniconda3/envs/mmc/lib/python3.6/site-packages/torch/nn/functional.py:1369:0\n\t\t    %38 : int = prim::Constant[value=0](), scope: SDAE # /Users/jasper/opt/miniconda3/envs/mmc/lib/python3.6/site-packages/torch/nn/functional.py:1062:0\n\t\t    %input.7 : Tensor = aten::leaky_relu(%input.6, %38), scope: SDAE # /Users/jasper/opt/miniconda3/envs/mmc/lib/python3.6/site-packages/torch/nn/functional.py:1062:0\n\t\t    %40 : float = prim::Constant[value=0.2](), scope: SDAE/Dropout[dropmodule1] # /Users/jasper/opt/miniconda3/envs/mmc/lib/python3.6/site-packages/torch/nn/functional.py:806:0\n\t\t    %41 : bool = prim::Constant[value=0](), scope: SDAE/Dropout[dropmodule1] # /Users/jasper/opt/miniconda3/envs/mmc/lib/python3.6/site-packages/torch/nn/functional.py:806:0\n\t\t    %input.8 : Tensor = aten::dropout(%input.7, %40, %41), scope: SDAE/Dropout[dropmodule1] # /Users/jasper/opt/miniconda3/envs/mmc/lib/python3.6/site-packages/torch/nn/functional.py:806:0\n\t\t    %43 : Tensor = aten::t(%weight.4), scope: SDAE/Linear[enc_3] # /Users/jasper/opt/miniconda3/envs/mmc/lib/python3.6/site-packages/torch/nn/functional.py:1369:0\n\t\t    %44 : int = prim::Constant[value=1](), scope: SDAE/Linear[enc_3] # /Users/jasper/opt/miniconda3/envs/mmc/lib/python3.6/site-packages/torch/nn/functional.py:1369:0\n\t\t    %45 : int = prim::Constant[value=1](), scope: SDAE/Linear[enc_3] # /Users/jasper/opt/miniconda3/envs/mmc/lib/python3.6/site-packages/torch/nn/functional.py:1369:0\n\t\t    %input.9 : Tensor = aten::addmm(%bias.4, %input.8, %43, %44, %45), scope: SDAE/Linear[enc_3] # /Users/jasper/opt/miniconda3/envs/mmc/lib/python3.6/site-packages/torch/nn/functional.py:1369:0\n\t\t    %47 : Tensor = aten::t(%weight), scope: SDAE/Linear[dec_3] # /Users/jasper/opt/miniconda3/envs/mmc/lib/python3.6/site-packages/torch/nn/functional.py:1369:0\n\t\t    %48 : int = prim::Constant[value=1](), scope: SDAE/Linear[dec_3] # /Users/jasper/opt/miniconda3/envs/mmc/lib/python3.6/site-packages/torch/nn/functional.py:1369:0\n\t\t    %49 : int = prim::Constant[value=1](), scope: SDAE/Linear[dec_3] # /Users/jasper/opt/miniconda3/envs/mmc/lib/python3.6/site-packages/torch/nn/functional.py:1369:0\n\t\t    %input.10 : Tensor = aten::addmm(%bias, %input.9, %47, %48, %49), scope: SDAE/Linear[dec_3] # /Users/jasper/opt/miniconda3/envs/mmc/lib/python3.6/site-packages/torch/nn/functional.py:1369:0\n\t\t    %51 : int = prim::Constant[value=0](), scope: SDAE # /Users/jasper/opt/miniconda3/envs/mmc/lib/python3.6/site-packages/torch/nn/functional.py:1062:0\n\t\t-   %input : Tensor = aten::leaky_relu(%input.10, %51), scope: SDAE # /Users/jasper/opt/miniconda3/envs/mmc/lib/python3.6/site-packages/torch/nn/functional.py:1062:0\n\t\t+   %input.11 : Tensor = aten::leaky_relu(%input.10, %51), scope: SDAE # /Users/jasper/opt/miniconda3/envs/mmc/lib/python3.6/site-packages/torch/nn/functional.py:1062:0\n\t\t?         +++\n\t\t+   %53 : Tensor[] = prim::ListConstruct(%input.11, %input.8), scope: SDAE/MSELoss[loss]\n\t\t+   %54 : Tensor[] = aten::broadcast_tensors(%53), scope: SDAE/MSELoss[loss] # /Users/jasper/opt/miniconda3/envs/mmc/lib/python3.6/site-packages/torch/functional.py:53:0\n\t\t+   %input : Tensor, %target : Tensor = prim::ListUnpack(%54), scope: SDAE/MSELoss[loss]\n\t\t-   %53 : int = prim::Constant[value=1](), scope: SDAE/MSELoss[loss] # /Users/jasper/opt/miniconda3/envs/mmc/lib/python3.6/site-packages/torch/nn/functional.py:2185:0\n\t\t?     ^                                                                                                                                                           ^^\n\t\t+   %57 : int = prim::Constant[value=1](), scope: SDAE/MSELoss[loss] # /Users/jasper/opt/miniconda3/envs/mmc/lib/python3.6/site-packages/torch/nn/functional.py:2190:0\n\t\t?     ^                                                                                                                                                           ^^\n\t\t-   %54 : Tensor = aten::sub(%input, %input.8, %53), scope: SDAE/MSELoss[loss] # /Users/jasper/opt/miniconda3/envs/mmc/lib/python3.6/site-packages/torch/nn/functional.py:2185:0\n\t\t-   %55 : int = prim::Constant[value=2](), scope: SDAE/MSELoss[loss] # /Users/jasper/opt/miniconda3/envs/mmc/lib/python3.6/site-packages/torch/nn/functional.py:2185:0\n\t\t-   %ret : Tensor = aten::pow(%54, %55), scope: SDAE/MSELoss[loss] # /Users/jasper/opt/miniconda3/envs/mmc/lib/python3.6/site-packages/torch/nn/functional.py:2185:0\n\t\t-   %57 : int? = prim::Constant(), scope: SDAE/MSELoss[loss]\n\t\t-   %58 : Tensor = aten::mean(%ret, %57), scope: SDAE/MSELoss[loss] # /Users/jasper/opt/miniconda3/envs/mmc/lib/python3.6/site-packages/torch/nn/functional.py:2187:0\n\t\t?                          ^^                                                                                                                                    ^^\n\t\t+   %58 : Tensor = aten::mse_loss(%input, %target, %57), scope: SDAE/MSELoss[loss] # /Users/jasper/opt/miniconda3/envs/mmc/lib/python3.6/site-packages/torch/nn/functional.py:2190:0\n\t\t?                         + ^^^^^  ++++++++++ +                                                                                                                                 ^^\n\t\t    return (%58)\n\tFirst diverging operator:\n\tNode diff:\n\t\t- %input : Tensor = aten::leaky_relu(%input.10, %51), scope: SDAE # /Users/jasper/opt/miniconda3/envs/mmc/lib/python3.6/site-packages/torch/nn/functional.py:1062:0\n\t\t+ %input.11 : Tensor = aten::leaky_relu(%input.10, %51), scope: SDAE # /Users/jasper/opt/miniconda3/envs/mmc/lib/python3.6/site-packages/torch/nn/functional.py:1062:0\n\t\t?       +++\n\tTrace source location:\n\t\t/Users/jasper/opt/miniconda3/envs/mmc/lib/python3.6/site-packages/torch/nn/functional.py(1062): leaky_relu\n\t\t/Users/jasper/dev/DCC/pytorch/SDAE.py(60): forward\n\t\t/Users/jasper/opt/miniconda3/envs/mmc/lib/python3.6/site-packages/torch/nn/modules/module.py(531): _slow_forward\n\t\t/Users/jasper/opt/miniconda3/envs/mmc/lib/python3.6/site-packages/torch/nn/modules/module.py(545): __call__\n\t\t/Users/jasper/opt/miniconda3/envs/mmc/lib/python3.6/site-packages/torch/jit/__init__.py(904): trace_module\n\t\t/Users/jasper/opt/miniconda3/envs/mmc/lib/python3.6/site-packages/torch/jit/__init__.py(772): trace\n\t\t/Users/jasper/opt/miniconda3/envs/mmc/lib/python3.6/site-packages/torch/utils/tensorboard/_pytorch_graph.py(229): graph\n\t\t/Users/jasper/opt/miniconda3/envs/mmc/lib/python3.6/site-packages/torch/utils/tensorboard/writer.py(648): add_graph\n\t\t<ipython-input-45-e2b10906093e>(1): <module>\n\t\t/Users/jasper/opt/miniconda3/envs/mmc/lib/python3.6/site-packages/IPython/core/interactiveshell.py(2862): run_code\n\t\t/Users/jasper/opt/miniconda3/envs/mmc/lib/python3.6/site-packages/IPython/core/interactiveshell.py(2802): run_ast_nodes\n\t\t/Users/jasper/opt/miniconda3/envs/mmc/lib/python3.6/site-packages/IPython/core/interactiveshell.py(2698): run_cell\n\t\t/Users/jasper/opt/miniconda3/envs/mmc/lib/python3.6/site-packages/ipykernel/zmqshell.py(533): run_cell\n\t\t/Users/jasper/opt/miniconda3/envs/mmc/lib/python3.6/site-packages/ipykernel/ipkernel.py(196): do_execute\n\t\t/Users/jasper/opt/miniconda3/envs/mmc/lib/python3.6/site-packages/ipykernel/kernelbase.py(399): execute_request\n\t\t/Users/jasper/opt/miniconda3/envs/mmc/lib/python3.6/site-packages/ipykernel/kernelbase.py(235): dispatch_shell\n\t\t/Users/jasper/opt/miniconda3/envs/mmc/lib/python3.6/site-packages/ipykernel/kernelbase.py(283): dispatcher\n\t\t/Users/jasper/opt/miniconda3/envs/mmc/lib/python3.6/site-packages/tornado/stack_context.py(277): null_wrapper\n\t\t/Users/jasper/opt/miniconda3/envs/mmc/lib/python3.6/site-packages/zmq/eventloop/zmqstream.py(414): _run_callback\n\t\t/Users/jasper/opt/miniconda3/envs/mmc/lib/python3.6/site-packages/zmq/eventloop/zmqstream.py(472): _handle_recv\n\t\t/Users/jasper/opt/miniconda3/envs/mmc/lib/python3.6/site-packages/zmq/eventloop/zmqstream.py(440): _handle_events\n\t\t/Users/jasper/opt/miniconda3/envs/mmc/lib/python3.6/site-packages/tornado/stack_context.py(277): null_wrapper\n\t\t/Users/jasper/opt/miniconda3/envs/mmc/lib/python3.6/site-packages/tornado/ioloop.py(888): start\n\t\t/Users/jasper/opt/miniconda3/envs/mmc/lib/python3.6/site-packages/zmq/eventloop/ioloop.py(177): start\n\t\t/Users/jasper/opt/miniconda3/envs/mmc/lib/python3.6/site-packages/ipykernel/kernelapp.py(477): start\n\t\t/Users/jasper/opt/miniconda3/envs/mmc/lib/python3.6/site-packages/traitlets/config/application.py(658): launch_instance\n\t\t/Users/jasper/opt/miniconda3/envs/mmc/lib/python3.6/site-packages/ipykernel_launcher.py(16): <module>\n\t\t/Users/jasper/opt/miniconda3/envs/mmc/lib/python3.6/runpy.py(85): _run_code\n\t\t/Users/jasper/opt/miniconda3/envs/mmc/lib/python3.6/runpy.py(193): _run_module_as_main\n\tCheck source location:\n\t\t/Users/jasper/opt/miniconda3/envs/mmc/lib/python3.6/site-packages/torch/nn/functional.py(1062): leaky_relu\n\t\t/Users/jasper/dev/DCC/pytorch/SDAE.py(60): forward\n\t\t/Users/jasper/opt/miniconda3/envs/mmc/lib/python3.6/site-packages/torch/nn/modules/module.py(531): _slow_forward\n\t\t/Users/jasper/opt/miniconda3/envs/mmc/lib/python3.6/site-packages/torch/nn/modules/module.py(545): __call__\n\t\t/Users/jasper/opt/miniconda3/envs/mmc/lib/python3.6/site-packages/torch/jit/__init__.py(904): trace_module\n\t\t/Users/jasper/opt/miniconda3/envs/mmc/lib/python3.6/site-packages/torch/jit/__init__.py(517): _check_trace\n\t\t/Users/jasper/opt/miniconda3/envs/mmc/lib/python3.6/site-packages/torch/autograd/grad_mode.py(49): decorate_no_grad\n\t\t/Users/jasper/opt/miniconda3/envs/mmc/lib/python3.6/site-packages/torch/jit/__init__.py(914): trace_module\n\t\t/Users/jasper/opt/miniconda3/envs/mmc/lib/python3.6/site-packages/torch/jit/__init__.py(772): trace\n\t\t/Users/jasper/opt/miniconda3/envs/mmc/lib/python3.6/site-packages/torch/utils/tensorboard/_pytorch_graph.py(229): graph\n\t\t/Users/jasper/opt/miniconda3/envs/mmc/lib/python3.6/site-packages/torch/utils/tensorboard/writer.py(648): add_graph\n\t\t<ipython-input-45-e2b10906093e>(1): <module>\n\t\t/Users/jasper/opt/miniconda3/envs/mmc/lib/python3.6/site-packages/IPython/core/interactiveshell.py(2862): run_code\n\t\t/Users/jasper/opt/miniconda3/envs/mmc/lib/python3.6/site-packages/IPython/core/interactiveshell.py(2802): run_ast_nodes\n\t\t/Users/jasper/opt/miniconda3/envs/mmc/lib/python3.6/site-packages/IPython/core/interactiveshell.py(2698): run_cell\n\t\t/Users/jasper/opt/miniconda3/envs/mmc/lib/python3.6/site-packages/ipykernel/zmqshell.py(533): run_cell\n\t\t/Users/jasper/opt/miniconda3/envs/mmc/lib/python3.6/site-packages/ipykernel/ipkernel.py(196): do_execute\n\t\t/Users/jasper/opt/miniconda3/envs/mmc/lib/python3.6/site-packages/ipykernel/kernelbase.py(399): execute_request\n\t\t/Users/jasper/opt/miniconda3/envs/mmc/lib/python3.6/site-packages/ipykernel/kernelbase.py(235): dispatch_shell\n\t\t/Users/jasper/opt/miniconda3/envs/mmc/lib/python3.6/site-packages/ipykernel/kernelbase.py(283): dispatcher\n\t\t/Users/jasper/opt/miniconda3/envs/mmc/lib/python3.6/site-packages/tornado/stack_context.py(277): null_wrapper\n\t\t/Users/jasper/opt/miniconda3/envs/mmc/lib/python3.6/site-packages/zmq/eventloop/zmqstream.py(414): _run_callback\n\t\t/Users/jasper/opt/miniconda3/envs/mmc/lib/python3.6/site-packages/zmq/eventloop/zmqstream.py(472): _handle_recv\n\t\t/Users/jasper/opt/miniconda3/envs/mmc/lib/python3.6/site-packages/zmq/eventloop/zmqstream.py(440): _handle_events\n\t\t/Users/jasper/opt/miniconda3/envs/mmc/lib/python3.6/site-packages/tornado/stack_context.py(277): null_wrapper\n\t\t/Users/jasper/opt/miniconda3/envs/mmc/lib/python3.6/site-packages/tornado/ioloop.py(888): start\n\t\t/Users/jasper/opt/miniconda3/envs/mmc/lib/python3.6/site-packages/zmq/eventloop/ioloop.py(177): start\n\t\t/Users/jasper/opt/miniconda3/envs/mmc/lib/python3.6/site-packages/ipykernel/kernelapp.py(477): start\n\t\t/Users/jasper/opt/miniconda3/envs/mmc/lib/python3.6/site-packages/traitlets/config/application.py(658): launch_instance\n\t\t/Users/jasper/opt/miniconda3/envs/mmc/lib/python3.6/site-packages/ipykernel_launcher.py(16): <module>\n\t\t/Users/jasper/opt/miniconda3/envs/mmc/lib/python3.6/runpy.py(85): _run_code\n\t\t/Users/jasper/opt/miniconda3/envs/mmc/lib/python3.6/runpy.py(193): _run_module_as_main\n",
     "output_type": "error",
     "traceback": [
      "\u001b[0;31m---------------------------------------------------------------------------\u001b[0m",
      "\u001b[0;31mTracingCheckError\u001b[0m                         Traceback (most recent call last)",
      "\u001b[0;32m<ipython-input-45-e2b10906093e>\u001b[0m in \u001b[0;36m<module>\u001b[0;34m()\u001b[0m\n\u001b[0;32m----> 1\u001b[0;31m \u001b[0mwriter\u001b[0m\u001b[0;34m.\u001b[0m\u001b[0madd_graph\u001b[0m\u001b[0;34m(\u001b[0m\u001b[0mnet\u001b[0m\u001b[0;34m,\u001b[0m \u001b[0;34m(\u001b[0m\u001b[0mimages\u001b[0m\u001b[0;34m,\u001b[0m \u001b[0mtorch\u001b[0m\u001b[0;34m.\u001b[0m\u001b[0mtensor\u001b[0m\u001b[0;34m(\u001b[0m\u001b[0;36m3\u001b[0m\u001b[0;34m)\u001b[0m\u001b[0;34m)\u001b[0m\u001b[0;34m)\u001b[0m\u001b[0;34m\u001b[0m\u001b[0;34m\u001b[0m\u001b[0m\n\u001b[0m\u001b[1;32m      2\u001b[0m \u001b[0mwriter\u001b[0m\u001b[0;34m.\u001b[0m\u001b[0mclose\u001b[0m\u001b[0;34m(\u001b[0m\u001b[0;34m)\u001b[0m\u001b[0;34m\u001b[0m\u001b[0;34m\u001b[0m\u001b[0m\n",
      "\u001b[0;32m~/opt/miniconda3/envs/mmc/lib/python3.6/site-packages/torch/utils/tensorboard/writer.py\u001b[0m in \u001b[0;36madd_graph\u001b[0;34m(self, model, input_to_model, verbose)\u001b[0m\n\u001b[1;32m    646\u001b[0m         \u001b[0;32mif\u001b[0m \u001b[0mhasattr\u001b[0m\u001b[0;34m(\u001b[0m\u001b[0mmodel\u001b[0m\u001b[0;34m,\u001b[0m \u001b[0;34m'forward'\u001b[0m\u001b[0;34m)\u001b[0m\u001b[0;34m:\u001b[0m\u001b[0;34m\u001b[0m\u001b[0;34m\u001b[0m\u001b[0m\n\u001b[1;32m    647\u001b[0m             \u001b[0;31m# A valid PyTorch model should have a 'forward' method\u001b[0m\u001b[0;34m\u001b[0m\u001b[0;34m\u001b[0m\u001b[0;34m\u001b[0m\u001b[0m\n\u001b[0;32m--> 648\u001b[0;31m             \u001b[0mself\u001b[0m\u001b[0;34m.\u001b[0m\u001b[0m_get_file_writer\u001b[0m\u001b[0;34m(\u001b[0m\u001b[0;34m)\u001b[0m\u001b[0;34m.\u001b[0m\u001b[0madd_graph\u001b[0m\u001b[0;34m(\u001b[0m\u001b[0mgraph\u001b[0m\u001b[0;34m(\u001b[0m\u001b[0mmodel\u001b[0m\u001b[0;34m,\u001b[0m \u001b[0minput_to_model\u001b[0m\u001b[0;34m,\u001b[0m \u001b[0mverbose\u001b[0m\u001b[0;34m)\u001b[0m\u001b[0;34m)\u001b[0m\u001b[0;34m\u001b[0m\u001b[0;34m\u001b[0m\u001b[0m\n\u001b[0m\u001b[1;32m    649\u001b[0m         \u001b[0;32melse\u001b[0m\u001b[0;34m:\u001b[0m\u001b[0;34m\u001b[0m\u001b[0;34m\u001b[0m\u001b[0m\n\u001b[1;32m    650\u001b[0m             \u001b[0;31m# Caffe2 models do not have the 'forward' method\u001b[0m\u001b[0;34m\u001b[0m\u001b[0;34m\u001b[0m\u001b[0;34m\u001b[0m\u001b[0m\n",
      "\u001b[0;32m~/opt/miniconda3/envs/mmc/lib/python3.6/site-packages/torch/utils/tensorboard/_pytorch_graph.py\u001b[0m in \u001b[0;36mgraph\u001b[0;34m(model, args, verbose)\u001b[0m\n\u001b[1;32m    227\u001b[0m     \u001b[0;32mwith\u001b[0m \u001b[0mtorch\u001b[0m\u001b[0;34m.\u001b[0m\u001b[0monnx\u001b[0m\u001b[0;34m.\u001b[0m\u001b[0mset_training\u001b[0m\u001b[0;34m(\u001b[0m\u001b[0mmodel\u001b[0m\u001b[0;34m,\u001b[0m \u001b[0;32mFalse\u001b[0m\u001b[0;34m)\u001b[0m\u001b[0;34m:\u001b[0m  \u001b[0;31m# TODO: move outside of torch.onnx?\u001b[0m\u001b[0;34m\u001b[0m\u001b[0;34m\u001b[0m\u001b[0m\n\u001b[1;32m    228\u001b[0m         \u001b[0;32mtry\u001b[0m\u001b[0;34m:\u001b[0m\u001b[0;34m\u001b[0m\u001b[0;34m\u001b[0m\u001b[0m\n\u001b[0;32m--> 229\u001b[0;31m             \u001b[0mtrace\u001b[0m \u001b[0;34m=\u001b[0m \u001b[0mtorch\u001b[0m\u001b[0;34m.\u001b[0m\u001b[0mjit\u001b[0m\u001b[0;34m.\u001b[0m\u001b[0mtrace\u001b[0m\u001b[0;34m(\u001b[0m\u001b[0mmodel\u001b[0m\u001b[0;34m,\u001b[0m \u001b[0margs\u001b[0m\u001b[0;34m)\u001b[0m\u001b[0;34m\u001b[0m\u001b[0;34m\u001b[0m\u001b[0m\n\u001b[0m\u001b[1;32m    230\u001b[0m             \u001b[0mgraph\u001b[0m \u001b[0;34m=\u001b[0m \u001b[0mtrace\u001b[0m\u001b[0;34m.\u001b[0m\u001b[0mgraph\u001b[0m\u001b[0;34m\u001b[0m\u001b[0;34m\u001b[0m\u001b[0m\n\u001b[1;32m    231\u001b[0m         \u001b[0;32mexcept\u001b[0m \u001b[0mRuntimeError\u001b[0m \u001b[0;32mas\u001b[0m \u001b[0me\u001b[0m\u001b[0;34m:\u001b[0m\u001b[0;34m\u001b[0m\u001b[0;34m\u001b[0m\u001b[0m\n",
      "\u001b[0;32m~/opt/miniconda3/envs/mmc/lib/python3.6/site-packages/torch/jit/__init__.py\u001b[0m in \u001b[0;36mtrace\u001b[0;34m(func, example_inputs, optimize, check_trace, check_inputs, check_tolerance, _force_outplace, _module_class, _compilation_unit)\u001b[0m\n\u001b[1;32m    770\u001b[0m         return trace_module(func, {'forward': example_inputs}, None,\n\u001b[1;32m    771\u001b[0m                             \u001b[0mcheck_trace\u001b[0m\u001b[0;34m,\u001b[0m \u001b[0mwrap_check_inputs\u001b[0m\u001b[0;34m(\u001b[0m\u001b[0mcheck_inputs\u001b[0m\u001b[0;34m)\u001b[0m\u001b[0;34m,\u001b[0m\u001b[0;34m\u001b[0m\u001b[0;34m\u001b[0m\u001b[0m\n\u001b[0;32m--> 772\u001b[0;31m                             check_tolerance, _force_outplace, _module_class)\n\u001b[0m\u001b[1;32m    773\u001b[0m \u001b[0;34m\u001b[0m\u001b[0m\n\u001b[1;32m    774\u001b[0m     if (hasattr(func, '__self__') and isinstance(func.__self__, torch.nn.Module) and\n",
      "\u001b[0;32m~/opt/miniconda3/envs/mmc/lib/python3.6/site-packages/torch/jit/__init__.py\u001b[0m in \u001b[0;36mtrace_module\u001b[0;34m(mod, inputs, optimize, check_trace, check_inputs, check_tolerance, _force_outplace, _module_class, _compilation_unit)\u001b[0m\n\u001b[1;32m    912\u001b[0m             \u001b[0;32melse\u001b[0m\u001b[0;34m:\u001b[0m\u001b[0;34m\u001b[0m\u001b[0;34m\u001b[0m\u001b[0m\n\u001b[1;32m    913\u001b[0m                 _check_trace([inputs], func, check_trace_method,\n\u001b[0;32m--> 914\u001b[0;31m                              check_tolerance, _force_outplace, True, _module_class)\n\u001b[0m\u001b[1;32m    915\u001b[0m \u001b[0;34m\u001b[0m\u001b[0m\n\u001b[1;32m    916\u001b[0m     \u001b[0;32mreturn\u001b[0m \u001b[0mmodule\u001b[0m\u001b[0;34m\u001b[0m\u001b[0;34m\u001b[0m\u001b[0m\n",
      "\u001b[0;32m~/opt/miniconda3/envs/mmc/lib/python3.6/site-packages/torch/autograd/grad_mode.py\u001b[0m in \u001b[0;36mdecorate_no_grad\u001b[0;34m(*args, **kwargs)\u001b[0m\n\u001b[1;32m     47\u001b[0m         \u001b[0;32mdef\u001b[0m \u001b[0mdecorate_no_grad\u001b[0m\u001b[0;34m(\u001b[0m\u001b[0;34m*\u001b[0m\u001b[0margs\u001b[0m\u001b[0;34m,\u001b[0m \u001b[0;34m**\u001b[0m\u001b[0mkwargs\u001b[0m\u001b[0;34m)\u001b[0m\u001b[0;34m:\u001b[0m\u001b[0;34m\u001b[0m\u001b[0;34m\u001b[0m\u001b[0m\n\u001b[1;32m     48\u001b[0m             \u001b[0;32mwith\u001b[0m \u001b[0mself\u001b[0m\u001b[0;34m:\u001b[0m\u001b[0;34m\u001b[0m\u001b[0;34m\u001b[0m\u001b[0m\n\u001b[0;32m---> 49\u001b[0;31m                 \u001b[0;32mreturn\u001b[0m \u001b[0mfunc\u001b[0m\u001b[0;34m(\u001b[0m\u001b[0;34m*\u001b[0m\u001b[0margs\u001b[0m\u001b[0;34m,\u001b[0m \u001b[0;34m**\u001b[0m\u001b[0mkwargs\u001b[0m\u001b[0;34m)\u001b[0m\u001b[0;34m\u001b[0m\u001b[0;34m\u001b[0m\u001b[0m\n\u001b[0m\u001b[1;32m     50\u001b[0m         \u001b[0;32mreturn\u001b[0m \u001b[0mdecorate_no_grad\u001b[0m\u001b[0;34m\u001b[0m\u001b[0;34m\u001b[0m\u001b[0m\n\u001b[1;32m     51\u001b[0m \u001b[0;34m\u001b[0m\u001b[0m\n",
      "\u001b[0;32m~/opt/miniconda3/envs/mmc/lib/python3.6/site-packages/torch/jit/__init__.py\u001b[0m in \u001b[0;36m_check_trace\u001b[0;34m(check_inputs, func, traced_func, check_tolerance, force_outplace, is_trace_module, _module_class)\u001b[0m\n\u001b[1;32m    639\u001b[0m         \u001b[0mdiag_info\u001b[0m \u001b[0;34m=\u001b[0m \u001b[0mgraph_diagnostic_info\u001b[0m\u001b[0;34m(\u001b[0m\u001b[0;34m)\u001b[0m\u001b[0;34m\u001b[0m\u001b[0;34m\u001b[0m\u001b[0m\n\u001b[1;32m    640\u001b[0m         \u001b[0;32mif\u001b[0m \u001b[0many\u001b[0m\u001b[0;34m(\u001b[0m\u001b[0minfo\u001b[0m \u001b[0;32mis\u001b[0m \u001b[0;32mnot\u001b[0m \u001b[0;32mNone\u001b[0m \u001b[0;32mfor\u001b[0m \u001b[0minfo\u001b[0m \u001b[0;32min\u001b[0m \u001b[0mdiag_info\u001b[0m\u001b[0;34m)\u001b[0m\u001b[0;34m:\u001b[0m\u001b[0;34m\u001b[0m\u001b[0;34m\u001b[0m\u001b[0m\n\u001b[0;32m--> 641\u001b[0;31m             \u001b[0;32mraise\u001b[0m \u001b[0mTracingCheckError\u001b[0m\u001b[0;34m(\u001b[0m\u001b[0;34m*\u001b[0m\u001b[0mdiag_info\u001b[0m\u001b[0;34m)\u001b[0m\u001b[0;34m\u001b[0m\u001b[0;34m\u001b[0m\u001b[0m\n\u001b[0m\u001b[1;32m    642\u001b[0m \u001b[0;34m\u001b[0m\u001b[0m\n\u001b[1;32m    643\u001b[0m \u001b[0;34m\u001b[0m\u001b[0m\n",
      "\u001b[0;31mTracingCheckError\u001b[0m: Tracing failed sanity checks!\nERROR: Graphs differed across invocations!\n\tGraph diff:\n\t\t  graph(%self : ClassType<SDAE>,\n\t\t        %x : Tensor,\n\t\t        %index : Tensor):\n\t\t    %3 : ClassType<Linear> = prim::GetAttr[name=\"enc_0\"](%self)\n\t\t    %weight.1 : Tensor = prim::GetAttr[name=\"weight\"](%3)\n\t\t    %bias.1 : Tensor = prim::GetAttr[name=\"bias\"](%3)\n\t\t    %6 : ClassType<Linear> = prim::GetAttr[name=\"enc_1\"](%self)\n\t\t    %weight.2 : Tensor = prim::GetAttr[name=\"weight\"](%6)\n\t\t    %bias.2 : Tensor = prim::GetAttr[name=\"bias\"](%6)\n\t\t    %9 : ClassType<Linear> = prim::GetAttr[name=\"enc_2\"](%self)\n\t\t    %weight.3 : Tensor = prim::GetAttr[name=\"weight\"](%9)\n\t\t    %bias.3 : Tensor = prim::GetAttr[name=\"bias\"](%9)\n\t\t    %12 : ClassType<Linear> = prim::GetAttr[name=\"enc_3\"](%self)\n\t\t    %weight.4 : Tensor = prim::GetAttr[name=\"weight\"](%12)\n\t\t    %bias.4 : Tensor = prim::GetAttr[name=\"bias\"](%12)\n\t\t    %15 : ClassType<Linear> = prim::GetAttr[name=\"dec_3\"](%self)\n\t\t    %weight : Tensor = prim::GetAttr[name=\"weight\"](%15)\n\t\t    %bias : Tensor = prim::GetAttr[name=\"bias\"](%15)\n\t\t    %18 : int = prim::Constant[value=-1](), scope: SDAE # /Users/jasper/dev/DCC/pytorch/SDAE.py:34:0\n\t\t    %19 : int = prim::Constant[value=784](), scope: SDAE # /Users/jasper/dev/DCC/pytorch/SDAE.py:34:0\n\t\t    %20 : int[] = prim::ListConstruct(%18, %19), scope: SDAE\n\t\t    %input.1 : Tensor = aten::view(%x, %20), scope: SDAE # /Users/jasper/dev/DCC/pytorch/SDAE.py:34:0\n\t\t    %22 : Tensor = aten::t(%weight.1), scope: SDAE/Linear[enc_0] # /Users/jasper/opt/miniconda3/envs/mmc/lib/python3.6/site-packages/torch/nn/functional.py:1369:0\n\t\t    %23 : int = prim::Constant[value=1](), scope: SDAE/Linear[enc_0] # /Users/jasper/opt/miniconda3/envs/mmc/lib/python3.6/site-packages/torch/nn/functional.py:1369:0\n\t\t    %24 : int = prim::Constant[value=1](), scope: SDAE/Linear[enc_0] # /Users/jasper/opt/miniconda3/envs/mmc/lib/python3.6/site-packages/torch/nn/functional.py:1369:0\n\t\t    %input.2 : Tensor = aten::addmm(%bias.1, %input.1, %22, %23, %24), scope: SDAE/Linear[enc_0] # /Users/jasper/opt/miniconda3/envs/mmc/lib/python3.6/site-packages/torch/nn/functional.py:1369:0\n\t\t    %26 : int = prim::Constant[value=0](), scope: SDAE # /Users/jasper/opt/miniconda3/envs/mmc/lib/python3.6/site-packages/torch/nn/functional.py:1062:0\n\t\t    %input.3 : Tensor = aten::leaky_relu(%input.2, %26), scope: SDAE # /Users/jasper/opt/miniconda3/envs/mmc/lib/python3.6/site-packages/torch/nn/functional.py:1062:0\n\t\t    %28 : Tensor = aten::t(%weight.2), scope: SDAE/Linear[enc_1] # /Users/jasper/opt/miniconda3/envs/mmc/lib/python3.6/site-packages/torch/nn/functional.py:1369:0\n\t\t    %29 : int = prim::Constant[value=1](), scope: SDAE/Linear[enc_1] # /Users/jasper/opt/miniconda3/envs/mmc/lib/python3.6/site-packages/torch/nn/functional.py:1369:0\n\t\t    %30 : int = prim::Constant[value=1](), scope: SDAE/Linear[enc_1] # /Users/jasper/opt/miniconda3/envs/mmc/lib/python3.6/site-packages/torch/nn/functional.py:1369:0\n\t\t    %input.4 : Tensor = aten::addmm(%bias.2, %input.3, %28, %29, %30), scope: SDAE/Linear[enc_1] # /Users/jasper/opt/miniconda3/envs/mmc/lib/python3.6/site-packages/torch/nn/functional.py:1369:0\n\t\t    %32 : int = prim::Constant[value=0](), scope: SDAE # /Users/jasper/opt/miniconda3/envs/mmc/lib/python3.6/site-packages/torch/nn/functional.py:1062:0\n\t\t    %input.5 : Tensor = aten::leaky_relu(%input.4, %32), scope: SDAE # /Users/jasper/opt/miniconda3/envs/mmc/lib/python3.6/site-packages/torch/nn/functional.py:1062:0\n\t\t    %34 : Tensor = aten::t(%weight.3), scope: SDAE/Linear[enc_2] # /Users/jasper/opt/miniconda3/envs/mmc/lib/python3.6/site-packages/torch/nn/functional.py:1369:0\n\t\t    %35 : int = prim::Constant[value=1](), scope: SDAE/Linear[enc_2] # /Users/jasper/opt/miniconda3/envs/mmc/lib/python3.6/site-packages/torch/nn/functional.py:1369:0\n\t\t    %36 : int = prim::Constant[value=1](), scope: SDAE/Linear[enc_2] # /Users/jasper/opt/miniconda3/envs/mmc/lib/python3.6/site-packages/torch/nn/functional.py:1369:0\n\t\t    %input.6 : Tensor = aten::addmm(%bias.3, %input.5, %34, %35, %36), scope: SDAE/Linear[enc_2] # /Users/jasper/opt/miniconda3/envs/mmc/lib/python3.6/site-packages/torch/nn/functional.py:1369:0\n\t\t    %38 : int = prim::Constant[value=0](), scope: SDAE # /Users/jasper/opt/miniconda3/envs/mmc/lib/python3.6/site-packages/torch/nn/functional.py:1062:0\n\t\t    %input.7 : Tensor = aten::leaky_relu(%input.6, %38), scope: SDAE # /Users/jasper/opt/miniconda3/envs/mmc/lib/python3.6/site-packages/torch/nn/functional.py:1062:0\n\t\t    %40 : float = prim::Constant[value=0.2](), scope: SDAE/Dropout[dropmodule1] # /Users/jasper/opt/miniconda3/envs/mmc/lib/python3.6/site-packages/torch/nn/functional.py:806:0\n\t\t    %41 : bool = prim::Constant[value=0](), scope: SDAE/Dropout[dropmodule1] # /Users/jasper/opt/miniconda3/envs/mmc/lib/python3.6/site-packages/torch/nn/functional.py:806:0\n\t\t    %input.8 : Tensor = aten::dropout(%input.7, %40, %41), scope: SDAE/Dropout[dropmodule1] # /Users/jasper/opt/miniconda3/envs/mmc/lib/python3.6/site-packages/torch/nn/functional.py:806:0\n\t\t    %43 : Tensor = aten::t(%weight.4), scope: SDAE/Linear[enc_3] # /Users/jasper/opt/miniconda3/envs/mmc/lib/python3.6/site-packages/torch/nn/functional.py:1369:0\n\t\t    %44 : int = prim::Constant[value=1](), scope: SDAE/Linear[enc_3] # /Users/jasper/opt/miniconda3/envs/mmc/lib/python3.6/site-packages/torch/nn/functional.py:1369:0\n\t\t    %45 : int = prim::Constant[value=1](), scope: SDAE/Linear[enc_3] # /Users/jasper/opt/miniconda3/envs/mmc/lib/python3.6/site-packages/torch/nn/functional.py:1369:0\n\t\t    %input.9 : Tensor = aten::addmm(%bias.4, %input.8, %43, %44, %45), scope: SDAE/Linear[enc_3] # /Users/jasper/opt/miniconda3/envs/mmc/lib/python3.6/site-packages/torch/nn/functional.py:1369:0\n\t\t    %47 : Tensor = aten::t(%weight), scope: SDAE/Linear[dec_3] # /Users/jasper/opt/miniconda3/envs/mmc/lib/python3.6/site-packages/torch/nn/functional.py:1369:0\n\t\t    %48 : int = prim::Constant[value=1](), scope: SDAE/Linear[dec_3] # /Users/jasper/opt/miniconda3/envs/mmc/lib/python3.6/site-packages/torch/nn/functional.py:1369:0\n\t\t    %49 : int = prim::Constant[value=1](), scope: SDAE/Linear[dec_3] # /Users/jasper/opt/miniconda3/envs/mmc/lib/python3.6/site-packages/torch/nn/functional.py:1369:0\n\t\t    %input.10 : Tensor = aten::addmm(%bias, %input.9, %47, %48, %49), scope: SDAE/Linear[dec_3] # /Users/jasper/opt/miniconda3/envs/mmc/lib/python3.6/site-packages/torch/nn/functional.py:1369:0\n\t\t    %51 : int = prim::Constant[value=0](), scope: SDAE # /Users/jasper/opt/miniconda3/envs/mmc/lib/python3.6/site-packages/torch/nn/functional.py:1062:0\n\t\t-   %input : Tensor = aten::leaky_relu(%input.10, %51), scope: SDAE # /Users/jasper/opt/miniconda3/envs/mmc/lib/python3.6/site-packages/torch/nn/functional.py:1062:0\n\t\t+   %input.11 : Tensor = aten::leaky_relu(%input.10, %51), scope: SDAE # /Users/jasper/opt/miniconda3/envs/mmc/lib/python3.6/site-packages/torch/nn/functional.py:1062:0\n\t\t?         +++\n\t\t+   %53 : Tensor[] = prim::ListConstruct(%input.11, %input.8), scope: SDAE/MSELoss[loss]\n\t\t+   %54 : Tensor[] = aten::broadcast_tensors(%53), scope: SDAE/MSELoss[loss] # /Users/jasper/opt/miniconda3/envs/mmc/lib/python3.6/site-packages/torch/functional.py:53:0\n\t\t+   %input : Tensor, %target : Tensor = prim::ListUnpack(%54), scope: SDAE/MSELoss[loss]\n\t\t-   %53 : int = prim::Constant[value=1](), scope: SDAE/MSELoss[loss] # /Users/jasper/opt/miniconda3/envs/mmc/lib/python3.6/site-packages/torch/nn/functional.py:2185:0\n\t\t?     ^                                                                                                                                                           ^^\n\t\t+   %57 : int = prim::Constant[value=1](), scope: SDAE/MSELoss[loss] # /Users/jasper/opt/miniconda3/envs/mmc/lib/python3.6/site-packages/torch/nn/functional.py:2190:0\n\t\t?     ^                                                                                                                                                           ^^\n\t\t-   %54 : Tensor = aten::sub(%input, %input.8, %53), scope: SDAE/MSELoss[loss] # /Users/jasper/opt/miniconda3/envs/mmc/lib/python3.6/site-packages/torch/nn/functional.py:2185:0\n\t\t-   %55 : int = prim::Constant[value=2](), scope: SDAE/MSELoss[loss] # /Users/jasper/opt/miniconda3/envs/mmc/lib/python3.6/site-packages/torch/nn/functional.py:2185:0\n\t\t-   %ret : Tensor = aten::pow(%54, %55), scope: SDAE/MSELoss[loss] # /Users/jasper/opt/miniconda3/envs/mmc/lib/python3.6/site-packages/torch/nn/functional.py:2185:0\n\t\t-   %57 : int? = prim::Constant(), scope: SDAE/MSELoss[loss]\n\t\t-   %58 : Tensor = aten::mean(%ret, %57), scope: SDAE/MSELoss[loss] # /Users/jasper/opt/miniconda3/envs/mmc/lib/python3.6/site-packages/torch/nn/functional.py:2187:0\n\t\t?                          ^^                                                                                                                                    ^^\n\t\t+   %58 : Tensor = aten::mse_loss(%input, %target, %57), scope: SDAE/MSELoss[loss] # /Users/jasper/opt/miniconda3/envs/mmc/lib/python3.6/site-packages/torch/nn/functional.py:2190:0\n\t\t?                         + ^^^^^  ++++++++++ +                                                                                                                                 ^^\n\t\t    return (%58)\n\tFirst diverging operator:\n\tNode diff:\n\t\t- %input : Tensor = aten::leaky_relu(%input.10, %51), scope: SDAE # /Users/jasper/opt/miniconda3/envs/mmc/lib/python3.6/site-packages/torch/nn/functional.py:1062:0\n\t\t+ %input.11 : Tensor = aten::leaky_relu(%input.10, %51), scope: SDAE # /Users/jasper/opt/miniconda3/envs/mmc/lib/python3.6/site-packages/torch/nn/functional.py:1062:0\n\t\t?       +++\n\tTrace source location:\n\t\t/Users/jasper/opt/miniconda3/envs/mmc/lib/python3.6/site-packages/torch/nn/functional.py(1062): leaky_relu\n\t\t/Users/jasper/dev/DCC/pytorch/SDAE.py(60): forward\n\t\t/Users/jasper/opt/miniconda3/envs/mmc/lib/python3.6/site-packages/torch/nn/modules/module.py(531): _slow_forward\n\t\t/Users/jasper/opt/miniconda3/envs/mmc/lib/python3.6/site-packages/torch/nn/modules/module.py(545): __call__\n\t\t/Users/jasper/opt/miniconda3/envs/mmc/lib/python3.6/site-packages/torch/jit/__init__.py(904): trace_module\n\t\t/Users/jasper/opt/miniconda3/envs/mmc/lib/python3.6/site-packages/torch/jit/__init__.py(772): trace\n\t\t/Users/jasper/opt/miniconda3/envs/mmc/lib/python3.6/site-packages/torch/utils/tensorboard/_pytorch_graph.py(229): graph\n\t\t/Users/jasper/opt/miniconda3/envs/mmc/lib/python3.6/site-packages/torch/utils/tensorboard/writer.py(648): add_graph\n\t\t<ipython-input-45-e2b10906093e>(1): <module>\n\t\t/Users/jasper/opt/miniconda3/envs/mmc/lib/python3.6/site-packages/IPython/core/interactiveshell.py(2862): run_code\n\t\t/Users/jasper/opt/miniconda3/envs/mmc/lib/python3.6/site-packages/IPython/core/interactiveshell.py(2802): run_ast_nodes\n\t\t/Users/jasper/opt/miniconda3/envs/mmc/lib/python3.6/site-packages/IPython/core/interactiveshell.py(2698): run_cell\n\t\t/Users/jasper/opt/miniconda3/envs/mmc/lib/python3.6/site-packages/ipykernel/zmqshell.py(533): run_cell\n\t\t/Users/jasper/opt/miniconda3/envs/mmc/lib/python3.6/site-packages/ipykernel/ipkernel.py(196): do_execute\n\t\t/Users/jasper/opt/miniconda3/envs/mmc/lib/python3.6/site-packages/ipykernel/kernelbase.py(399): execute_request\n\t\t/Users/jasper/opt/miniconda3/envs/mmc/lib/python3.6/site-packages/ipykernel/kernelbase.py(235): dispatch_shell\n\t\t/Users/jasper/opt/miniconda3/envs/mmc/lib/python3.6/site-packages/ipykernel/kernelbase.py(283): dispatcher\n\t\t/Users/jasper/opt/miniconda3/envs/mmc/lib/python3.6/site-packages/tornado/stack_context.py(277): null_wrapper\n\t\t/Users/jasper/opt/miniconda3/envs/mmc/lib/python3.6/site-packages/zmq/eventloop/zmqstream.py(414): _run_callback\n\t\t/Users/jasper/opt/miniconda3/envs/mmc/lib/python3.6/site-packages/zmq/eventloop/zmqstream.py(472): _handle_recv\n\t\t/Users/jasper/opt/miniconda3/envs/mmc/lib/python3.6/site-packages/zmq/eventloop/zmqstream.py(440): _handle_events\n\t\t/Users/jasper/opt/miniconda3/envs/mmc/lib/python3.6/site-packages/tornado/stack_context.py(277): null_wrapper\n\t\t/Users/jasper/opt/miniconda3/envs/mmc/lib/python3.6/site-packages/tornado/ioloop.py(888): start\n\t\t/Users/jasper/opt/miniconda3/envs/mmc/lib/python3.6/site-packages/zmq/eventloop/ioloop.py(177): start\n\t\t/Users/jasper/opt/miniconda3/envs/mmc/lib/python3.6/site-packages/ipykernel/kernelapp.py(477): start\n\t\t/Users/jasper/opt/miniconda3/envs/mmc/lib/python3.6/site-packages/traitlets/config/application.py(658): launch_instance\n\t\t/Users/jasper/opt/miniconda3/envs/mmc/lib/python3.6/site-packages/ipykernel_launcher.py(16): <module>\n\t\t/Users/jasper/opt/miniconda3/envs/mmc/lib/python3.6/runpy.py(85): _run_code\n\t\t/Users/jasper/opt/miniconda3/envs/mmc/lib/python3.6/runpy.py(193): _run_module_as_main\n\tCheck source location:\n\t\t/Users/jasper/opt/miniconda3/envs/mmc/lib/python3.6/site-packages/torch/nn/functional.py(1062): leaky_relu\n\t\t/Users/jasper/dev/DCC/pytorch/SDAE.py(60): forward\n\t\t/Users/jasper/opt/miniconda3/envs/mmc/lib/python3.6/site-packages/torch/nn/modules/module.py(531): _slow_forward\n\t\t/Users/jasper/opt/miniconda3/envs/mmc/lib/python3.6/site-packages/torch/nn/modules/module.py(545): __call__\n\t\t/Users/jasper/opt/miniconda3/envs/mmc/lib/python3.6/site-packages/torch/jit/__init__.py(904): trace_module\n\t\t/Users/jasper/opt/miniconda3/envs/mmc/lib/python3.6/site-packages/torch/jit/__init__.py(517): _check_trace\n\t\t/Users/jasper/opt/miniconda3/envs/mmc/lib/python3.6/site-packages/torch/autograd/grad_mode.py(49): decorate_no_grad\n\t\t/Users/jasper/opt/miniconda3/envs/mmc/lib/python3.6/site-packages/torch/jit/__init__.py(914): trace_module\n\t\t/Users/jasper/opt/miniconda3/envs/mmc/lib/python3.6/site-packages/torch/jit/__init__.py(772): trace\n\t\t/Users/jasper/opt/miniconda3/envs/mmc/lib/python3.6/site-packages/torch/utils/tensorboard/_pytorch_graph.py(229): graph\n\t\t/Users/jasper/opt/miniconda3/envs/mmc/lib/python3.6/site-packages/torch/utils/tensorboard/writer.py(648): add_graph\n\t\t<ipython-input-45-e2b10906093e>(1): <module>\n\t\t/Users/jasper/opt/miniconda3/envs/mmc/lib/python3.6/site-packages/IPython/core/interactiveshell.py(2862): run_code\n\t\t/Users/jasper/opt/miniconda3/envs/mmc/lib/python3.6/site-packages/IPython/core/interactiveshell.py(2802): run_ast_nodes\n\t\t/Users/jasper/opt/miniconda3/envs/mmc/lib/python3.6/site-packages/IPython/core/interactiveshell.py(2698): run_cell\n\t\t/Users/jasper/opt/miniconda3/envs/mmc/lib/python3.6/site-packages/ipykernel/zmqshell.py(533): run_cell\n\t\t/Users/jasper/opt/miniconda3/envs/mmc/lib/python3.6/site-packages/ipykernel/ipkernel.py(196): do_execute\n\t\t/Users/jasper/opt/miniconda3/envs/mmc/lib/python3.6/site-packages/ipykernel/kernelbase.py(399): execute_request\n\t\t/Users/jasper/opt/miniconda3/envs/mmc/lib/python3.6/site-packages/ipykernel/kernelbase.py(235): dispatch_shell\n\t\t/Users/jasper/opt/miniconda3/envs/mmc/lib/python3.6/site-packages/ipykernel/kernelbase.py(283): dispatcher\n\t\t/Users/jasper/opt/miniconda3/envs/mmc/lib/python3.6/site-packages/tornado/stack_context.py(277): null_wrapper\n\t\t/Users/jasper/opt/miniconda3/envs/mmc/lib/python3.6/site-packages/zmq/eventloop/zmqstream.py(414): _run_callback\n\t\t/Users/jasper/opt/miniconda3/envs/mmc/lib/python3.6/site-packages/zmq/eventloop/zmqstream.py(472): _handle_recv\n\t\t/Users/jasper/opt/miniconda3/envs/mmc/lib/python3.6/site-packages/zmq/eventloop/zmqstream.py(440): _handle_events\n\t\t/Users/jasper/opt/miniconda3/envs/mmc/lib/python3.6/site-packages/tornado/stack_context.py(277): null_wrapper\n\t\t/Users/jasper/opt/miniconda3/envs/mmc/lib/python3.6/site-packages/tornado/ioloop.py(888): start\n\t\t/Users/jasper/opt/miniconda3/envs/mmc/lib/python3.6/site-packages/zmq/eventloop/ioloop.py(177): start\n\t\t/Users/jasper/opt/miniconda3/envs/mmc/lib/python3.6/site-packages/ipykernel/kernelapp.py(477): start\n\t\t/Users/jasper/opt/miniconda3/envs/mmc/lib/python3.6/site-packages/traitlets/config/application.py(658): launch_instance\n\t\t/Users/jasper/opt/miniconda3/envs/mmc/lib/python3.6/site-packages/ipykernel_launcher.py(16): <module>\n\t\t/Users/jasper/opt/miniconda3/envs/mmc/lib/python3.6/runpy.py(85): _run_code\n\t\t/Users/jasper/opt/miniconda3/envs/mmc/lib/python3.6/runpy.py(193): _run_module_as_main\n"
     ]
    }
   ],
   "source": [
    "writer.add_graph(net, (images, torch.tensor(3)))\n",
    "writer.close()"
   ]
  },
  {
   "cell_type": "code",
   "execution_count": null,
   "metadata": {},
   "outputs": [],
   "source": []
  },
  {
   "cell_type": "code",
   "execution_count": null,
   "metadata": {},
   "outputs": [],
   "source": []
  }
 ],
 "metadata": {
  "kernelspec": {
   "display_name": "mmc",
   "language": "python",
   "name": "mmc"
  },
  "language_info": {
   "codemirror_mode": {
    "name": "ipython",
    "version": 3
   },
   "file_extension": ".py",
   "mimetype": "text/x-python",
   "name": "python",
   "nbconvert_exporter": "python",
   "pygments_lexer": "ipython3",
   "version": "3.6.10"
  },
  "toc": {
   "base_numbering": 1,
   "nav_menu": {},
   "number_sections": true,
   "sideBar": true,
   "skip_h1_title": false,
   "title_cell": "Table of Contents",
   "title_sidebar": "Contents",
   "toc_cell": false,
   "toc_position": {},
   "toc_section_display": true,
   "toc_window_display": false
  }
 },
 "nbformat": 4,
 "nbformat_minor": 4
}
